{
 "cells": [
  {
   "cell_type": "code",
   "execution_count": 93,
   "outputs": [],
   "source": [
    "import os\n",
    "import glob\n",
    "import json\n",
    "import matplotlib.pyplot as plt\n",
    "import numpy as np\n",
    "import pandas as pd\n",
    "import math"
   ],
   "metadata": {
    "collapsed": false,
    "pycharm": {
     "name": "#%%\n",
     "is_executing": false
    }
   }
  },
  {
   "cell_type": "code",
   "execution_count": 5,
   "outputs": [],
   "source": [
    "all_heights = []\n",
    "for dir_name in glob.glob('data/set*'):\n",
    "    with open(f\"{dir_name}/annotations_res.json\") as json_file:\n",
    "        annotations = json.load(json_file)\n",
    "    dataset = dir_name.split('\\\\')[-1]\n",
    "    for video in annotations[dataset]:\n",
    "        for frame in annotations[dataset][video]['frames']:\n",
    "            people = annotations[dataset][video]['frames'][frame]\n",
    "            for person in people:\n",
    "                all_heights.append(person['pos'][3])\n",
    "    "
   ],
   "metadata": {
    "collapsed": false,
    "pycharm": {
     "name": "#%%\n",
     "is_executing": false
    }
   }
  },
  {
   "cell_type": "code",
   "execution_count": 6,
   "outputs": [
    {
     "data": {
      "text/plain": "285558"
     },
     "metadata": {},
     "output_type": "execute_result",
     "execution_count": 6
    }
   ],
   "source": [
    "len(all_heights)"
   ],
   "metadata": {
    "collapsed": false,
    "pycharm": {
     "name": "#%%\n",
     "is_executing": false
    }
   }
  },
  {
   "cell_type": "code",
   "execution_count": 27,
   "outputs": [
    {
     "data": {
      "text/plain": "<Figure size 432x288 with 1 Axes>",
      "image/png": "[encoded data removed]"
     },
     "metadata": {
      "needs_background": "light"
     },
     "output_type": "display_data"
    }
   ],
   "source": [
    "%matplotlib inline\n",
    "fig, ax = plt.subplots()\n",
    "all_heights_n = np.array(all_heights)\n",
    "all_heights_p = pd.Series(all_heights_n[all_heights_n < 256])\n",
    "q_1 = np.quantile(all_heights_n, 0.15)\n",
    "q_2 = np.quantile(all_heights_n, 0.3)\n",
    "q_3 = np.quantile(all_heights_n, 0.5)\n",
    "q_4 = np.quantile(all_heights_n, 0.7)\n",
    "q_5 = np.quantile(all_heights_n, 0.85)\n",
    "_, bins, _ = ax.hist(all_heights_p, bins=35)\n",
    "ax.set_xticks((q_1, q_2, q_3, q_4, q_5))\n",
    "plt.show()"
   ],
   "metadata": {
    "collapsed": false,
    "pycharm": {
     "name": "#%%\n",
     "is_executing": false
    }
   }
  },
  {
   "cell_type": "code",
   "execution_count": 28,
   "outputs": [],
   "source": [
    "bins_copy = bins.copy()"
   ],
   "metadata": {
    "collapsed": false,
    "pycharm": {
     "name": "#%%\n",
     "is_executing": false
    }
   }
  },
  {
   "cell_type": "code",
   "execution_count": 29,
   "outputs": [
    {
     "data": {
      "text/plain": "<Figure size 432x288 with 1 Axes>",
      "image/png": "[encoded data removed]"
     },
     "metadata": {
      "needs_background": "light"
     },
     "output_type": "display_data"
    }
   ],
   "source": [
    "fig, ax = plt.subplots()\n",
    "all_heights_p_256 = pd.Series(all_heights_n[np.logical_and(all_heights_n > 128, all_heights_n < 256)])\n",
    "_, bins, _ = ax.hist(all_heights_p_256, bins=8)\n",
    "bins_256 = bins.copy()\n",
    "plt.show()"
   ],
   "metadata": {
    "collapsed": false,
    "pycharm": {
     "name": "#%%\n",
     "is_executing": false
    }
   }
  },
  {
   "cell_type": "code",
   "execution_count": 34,
   "outputs": [
    {
     "data": {
      "text/plain": "array([  0.58308259,   7.88023682,  15.17739105,  22.47454527,\n        29.7716995 ,  37.06885373,  44.36600796,  51.66316218,\n        58.96031641,  66.25747064,  73.55462486,  80.85177909,\n        88.14893332,  95.44608755, 102.74324177, 110.040396  ,\n       117.33755023, 124.63470446, 128.00943181, 144.0061879 ,\n       160.00294399, 175.99970008, 191.99645618, 207.99321227,\n       223.98996836, 239.98672445, 255.98348055])"
     },
     "metadata": {},
     "output_type": "execute_result",
     "execution_count": 34
    }
   ],
   "source": [
    "new_bins = np.hstack([bins_copy[bins_copy < bins_256.min()], bins_256])\n",
    "new_bins"
   ],
   "metadata": {
    "collapsed": false,
    "pycharm": {
     "name": "#%%\n",
     "is_executing": false
    }
   }
  },
  {
   "cell_type": "code",
   "execution_count": 33,
   "outputs": [
    {
     "data": {
      "text/plain": "array([  0.58308259,   7.88023682,  15.17739105,  22.47454527,\n        29.7716995 ,  37.06885373,  44.36600796,  51.66316218,\n        58.96031641,  66.25747064,  73.55462486,  80.85177909,\n        88.14893332,  95.44608755, 102.74324177, 110.040396  ,\n       117.33755023, 124.63470446])"
     },
     "metadata": {},
     "output_type": "execute_result",
     "execution_count": 33
    }
   ],
   "source": [
    "bins_copy[bins_copy < bins_256.min()]"
   ],
   "metadata": {
    "collapsed": false,
    "pycharm": {
     "name": "#%%\n",
     "is_executing": false
    }
   }
  },
  {
   "cell_type": "code",
   "execution_count": 106,
   "outputs": [
    {
     "data": {
      "text/plain": "<Figure size 432x288 with 1 Axes>",
      "image/png": "[encoded data removed]"
     },
     "metadata": {
      "needs_background": "light"
     },
     "output_type": "display_data"
    }
   ],
   "source": [
    "%matplotlib inline\n",
    "fig, ax = plt.subplots()\n",
    "ax.set_ylim([0, 0.018])\n",
    "all_heights_n = np.array(all_heights)\n",
    "all_heights_p = pd.Series(all_heights_n[all_heights_n < 256])\n",
    "q_1 = math.ceil(np.quantile(all_heights_n, 0.15))\n",
    "# q_2 = np.quantile(all_heights_n, 0.3)\n",
    "q_3 = np.quantile(all_heights_n, 0.5)\n",
    "# q_4 = np.quantile(all_heights_n, 0.7)\n",
    "q_5 = np.quantile(all_heights_n, 0.85)\n",
    "wght = all_heights_n[all_heights_n < 256] / all_heights_n[all_heights_n < 256].shape[0]\n",
    "_, bins, _ = ax.hist(all_heights_p, bins=new_bins, density=True, weights=wght)\n",
    "ax.set_xticks(tuple(map(int, [16, q_1, q_3, q_5, 128, 256])))\n",
    "ax.text(35, 0.0155, \"70% \\nmedium\")\n",
    "ax.text(1, 0.0155, \"15% \\nfar\")\n",
    "ax.text(140, 0.0155, \"15% \\nnear\")\n",
    "ax.axvline(x=q_1, color='black', linestyle='--')\n",
    "ax.axvline(x=q_5, color='black', linestyle='--')\n",
    "ax.set_xlabel('height(pixels)')\n",
    "ax.set_ylabel('density')\n",
    "plt.savefig('height_ditsrib.png')"
   ],
   "metadata": {
    "collapsed": false,
    "pycharm": {
     "name": "#%%\n",
     "is_executing": false
    }
   }
  },
  {
   "cell_type": "code",
   "execution_count": 61,
   "outputs": [
    {
     "data": {
      "text/plain": "<Figure size 432x288 with 1 Axes>",
      "image/png": "[encoded data removed]"
     },
     "metadata": {
      "needs_background": "light"
     },
     "output_type": "display_data"
    }
   ],
   "source": [
    "fig, ax = plt.subplots()\n",
    "all_heights_p_256 = pd.Series(all_heights_n[all_heights_n < 30])\n",
    "_, bins, _ = ax.hist(all_heights_p_256, bins=10)\n",
    "small_bins = bins.copy()\n",
    "plt.show()"
   ],
   "metadata": {
    "collapsed": false,
    "pycharm": {
     "name": "#%%\n",
     "is_executing": false
    }
   }
  },
  {
   "cell_type": "code",
   "execution_count": 62,
   "outputs": [
    {
     "data": {
      "text/plain": "<Figure size 432x288 with 1 Axes>",
      "image/png": "[encoded data removed]"
     },
     "metadata": {
      "needs_background": "light"
     },
     "output_type": "display_data"
    }
   ],
   "source": [
    "fig, ax = plt.subplots()\n",
    "all_heights_p_256 = pd.Series(all_heights_n[np.logical_and(all_heights_n > 30, all_heights_n < 80)])\n",
    "_, bins, _ = ax.hist(all_heights_p_256, bins=8)\n",
    "medium_beans = bins.copy()\n",
    "plt.show()\n"
   ],
   "metadata": {
    "collapsed": false,
    "pycharm": {
     "name": "#%%\n",
     "is_executing": false
    }
   }
  },
  {
   "cell_type": "code",
   "execution_count": 63,
   "outputs": [
    {
     "data": {
      "text/plain": "<Figure size 432x288 with 1 Axes>",
      "image/png": "[encoded data removed]"
     },
     "metadata": {
      "needs_background": "light"
     },
     "output_type": "display_data"
    }
   ],
   "source": [
    "fig, ax = plt.subplots()\n",
    "all_heights_p_256 = pd.Series(all_heights_n[np.logical_and(all_heights_n > 80, all_heights_n < 256)])\n",
    "_, bins, _ = ax.hist(all_heights_p_256, bins=20)\n",
    "big_bins = bins.copy()\n",
    "plt.show()"
   ],
   "metadata": {
    "collapsed": false,
    "pycharm": {
     "name": "#%%\n",
     "is_executing": false
    }
   }
  },
  {
   "cell_type": "code",
   "execution_count": 90,
   "outputs": [
    {
     "data": {
      "text/plain": "array([  0.58308259,   3.52476669,   6.46645079,   9.40813489,\n        12.34981899,  15.29150309,  18.23318719,  21.17487129,\n        24.11655539,  27.05823949,  30.00062403,  36.25052234,\n        42.50042066,  48.75031898,  55.00021729,  61.25011561,\n        67.50001392,  73.74991224,  80.0009246 ,  88.8000524 ,\n        97.5991802 , 106.39830799, 115.19743579, 123.99656359,\n       132.79569139, 141.59481918, 150.39394698, 159.19307478,\n       167.99220257, 176.79133037, 185.59045817, 194.38958597,\n       203.18871376, 211.98784156, 220.78696936, 229.58609715,\n       238.38522495, 247.18435275, 255.98348055])"
     },
     "metadata": {},
     "output_type": "execute_result",
     "execution_count": 90
    }
   ],
   "source": [
    "new_bins = np.hstack([small_bins, medium_beans, big_bins])\n",
    "new_bins = np.delete(new_bins, [10,19])\n",
    "new_bins"
   ],
   "metadata": {
    "collapsed": false,
    "pycharm": {
     "name": "#%%\n",
     "is_executing": false
    }
   }
  },
  {
   "cell_type": "code",
   "execution_count": 107,
   "outputs": [
    {
     "data": {
      "text/plain": "(285558,)"
     },
     "metadata": {},
     "output_type": "execute_result",
     "execution_count": 107
    }
   ],
   "source": [
    "all_heights_n.shape\n"
   ],
   "metadata": {
    "collapsed": false,
    "pycharm": {
     "name": "#%%\n",
     "is_executing": false
    }
   }
  }
 ],
 "metadata": {
  "language_info": {
   "codemirror_mode": {
    "name": "ipython",
    "version": 2
   },
   "file_extension": ".py",
   "mimetype": "text/x-python",
   "name": "python",
   "nbconvert_exporter": "python",
   "pygments_lexer": "ipython2",
   "version": "2.7.6"
  },
  "kernelspec": {
   "name": "python3",
   "language": "python",
   "display_name": "Python 3"
  },
  "pycharm": {
   "stem_cell": {
    "cell_type": "raw",
    "source": [],
    "metadata": {
     "collapsed": false
    }
   }
  }
 },
 "nbformat": 4,
 "nbformat_minor": 0
}