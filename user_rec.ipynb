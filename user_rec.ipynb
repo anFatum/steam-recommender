{
 "cells": [
  {
   "cell_type": "code",
   "execution_count": 1,
   "metadata": {
    "collapsed": true,
    "pycharm": {
     "is_executing": false
    }
   },
   "outputs": [],
   "source": [
    "\n",
    "import os\n",
    "import pandas as pd\n",
    "import matplotlib.pyplot as plt\n",
    "import numpy as np"
   ]
  },
  {
   "cell_type": "code",
   "execution_count": 2,
   "outputs": [
    {
     "data": {
      "text/plain": "     user_id                  game_title behavior_name  value  x\n0  151603712  The Elder Scrolls V Skyrim      purchase    1.0  0\n1  151603712  The Elder Scrolls V Skyrim          play  273.0  0\n2  151603712                   Fallout 4      purchase    1.0  0\n3  151603712                   Fallout 4          play   87.0  0\n4  151603712                       Spore      purchase    1.0  0",
      "text/html": "<div>\n<style scoped>\n    .dataframe tbody tr th:only-of-type {\n        vertical-align: middle;\n    }\n\n    .dataframe tbody tr th {\n        vertical-align: top;\n    }\n\n    .dataframe thead th {\n        text-align: right;\n    }\n</style>\n<table border=\"1\" class=\"dataframe\">\n  <thead>\n    <tr style=\"text-align: right;\">\n      <th></th>\n      <th>user_id</th>\n      <th>game_title</th>\n      <th>behavior_name</th>\n      <th>value</th>\n      <th>x</th>\n    </tr>\n  </thead>\n  <tbody>\n    <tr>\n      <td>0</td>\n      <td>151603712</td>\n      <td>The Elder Scrolls V Skyrim</td>\n      <td>purchase</td>\n      <td>1.0</td>\n      <td>0</td>\n    </tr>\n    <tr>\n      <td>1</td>\n      <td>151603712</td>\n      <td>The Elder Scrolls V Skyrim</td>\n      <td>play</td>\n      <td>273.0</td>\n      <td>0</td>\n    </tr>\n    <tr>\n      <td>2</td>\n      <td>151603712</td>\n      <td>Fallout 4</td>\n      <td>purchase</td>\n      <td>1.0</td>\n      <td>0</td>\n    </tr>\n    <tr>\n      <td>3</td>\n      <td>151603712</td>\n      <td>Fallout 4</td>\n      <td>play</td>\n      <td>87.0</td>\n      <td>0</td>\n    </tr>\n    <tr>\n      <td>4</td>\n      <td>151603712</td>\n      <td>Spore</td>\n      <td>purchase</td>\n      <td>1.0</td>\n      <td>0</td>\n    </tr>\n  </tbody>\n</table>\n</div>"
     },
     "metadata": {},
     "output_type": "execute_result",
     "execution_count": 2
    }
   ],
   "source": [
    "data = pd.read_csv('data\\\\steam-200k.csv', header=None)\n",
    "data.columns = [\"user_id\", \"game_title\", \"behavior_name\", \"value\", \"x\"]\n",
    "data.head()"
   ],
   "metadata": {
    "collapsed": false,
    "pycharm": {
     "name": "#%%\n",
     "is_executing": false
    }
   }
  },
  {
   "cell_type": "code",
   "execution_count": 3,
   "outputs": [
    {
     "data": {
      "text/plain": "     user_id                  game_title behavior_name  value\n0  151603712  The Elder Scrolls V Skyrim      purchase    1.0\n1  151603712  The Elder Scrolls V Skyrim          play  273.0\n2  151603712                   Fallout 4      purchase    1.0\n3  151603712                   Fallout 4          play   87.0\n4  151603712                       Spore      purchase    1.0",
      "text/html": "<div>\n<style scoped>\n    .dataframe tbody tr th:only-of-type {\n        vertical-align: middle;\n    }\n\n    .dataframe tbody tr th {\n        vertical-align: top;\n    }\n\n    .dataframe thead th {\n        text-align: right;\n    }\n</style>\n<table border=\"1\" class=\"dataframe\">\n  <thead>\n    <tr style=\"text-align: right;\">\n      <th></th>\n      <th>user_id</th>\n      <th>game_title</th>\n      <th>behavior_name</th>\n      <th>value</th>\n    </tr>\n  </thead>\n  <tbody>\n    <tr>\n      <td>0</td>\n      <td>151603712</td>\n      <td>The Elder Scrolls V Skyrim</td>\n      <td>purchase</td>\n      <td>1.0</td>\n    </tr>\n    <tr>\n      <td>1</td>\n      <td>151603712</td>\n      <td>The Elder Scrolls V Skyrim</td>\n      <td>play</td>\n      <td>273.0</td>\n    </tr>\n    <tr>\n      <td>2</td>\n      <td>151603712</td>\n      <td>Fallout 4</td>\n      <td>purchase</td>\n      <td>1.0</td>\n    </tr>\n    <tr>\n      <td>3</td>\n      <td>151603712</td>\n      <td>Fallout 4</td>\n      <td>play</td>\n      <td>87.0</td>\n    </tr>\n    <tr>\n      <td>4</td>\n      <td>151603712</td>\n      <td>Spore</td>\n      <td>purchase</td>\n      <td>1.0</td>\n    </tr>\n  </tbody>\n</table>\n</div>"
     },
     "metadata": {},
     "output_type": "execute_result",
     "execution_count": 3
    }
   ],
   "source": [
    "data = data.drop(['x'], axis=1)\n",
    "data = data.drop_duplicates()\n",
    "data.head()"
   ],
   "metadata": {
    "collapsed": false,
    "pycharm": {
     "name": "#%%\n",
     "is_executing": false
    }
   }
  },
  {
   "cell_type": "code",
   "execution_count": 4,
   "outputs": [
    {
     "data": {
      "text/plain": "                                                      user_id behavior_name  \\\ngame_title                                                                    \n007 Legends                                          46055854      purchase   \n0RBITALIS                                            86055705      purchase   \n1... 2... 3... KICK IT! (Drop That Beat Like an...   65117175      purchase   \n10 Second Ninja                                      33013552      purchase   \n10,000,000                                           33865373      purchase   \n...                                                       ...           ...   \nsZone-Online                                        264253640      purchase   \nsamurai_jazz                                        250375228      purchase   \nthe static speaks my name                           264253640      purchase   \ntheHunter                                           308653033      purchase   \ntheHunter Primal                                     62878249      purchase   \n\n                                                    value  \ngame_title                                                 \n007 Legends                                           1.0  \n0RBITALIS                                             1.0  \n1... 2... 3... KICK IT! (Drop That Beat Like an...    1.0  \n10 Second Ninja                                       1.0  \n10,000,000                                            1.0  \n...                                                   ...  \nsZone-Online                                          1.0  \nsamurai_jazz                                          1.0  \nthe static speaks my name                             1.0  \ntheHunter                                             1.0  \ntheHunter Primal                                      1.0  \n\n[5155 rows x 3 columns]",
      "text/html": "<div>\n<style scoped>\n    .dataframe tbody tr th:only-of-type {\n        vertical-align: middle;\n    }\n\n    .dataframe tbody tr th {\n        vertical-align: top;\n    }\n\n    .dataframe thead th {\n        text-align: right;\n    }\n</style>\n<table border=\"1\" class=\"dataframe\">\n  <thead>\n    <tr style=\"text-align: right;\">\n      <th></th>\n      <th>user_id</th>\n      <th>behavior_name</th>\n      <th>value</th>\n    </tr>\n    <tr>\n      <th>game_title</th>\n      <th></th>\n      <th></th>\n      <th></th>\n    </tr>\n  </thead>\n  <tbody>\n    <tr>\n      <td>007 Legends</td>\n      <td>46055854</td>\n      <td>purchase</td>\n      <td>1.0</td>\n    </tr>\n    <tr>\n      <td>0RBITALIS</td>\n      <td>86055705</td>\n      <td>purchase</td>\n      <td>1.0</td>\n    </tr>\n    <tr>\n      <td>1... 2... 3... KICK IT! (Drop That Beat Like an Ugly Baby)</td>\n      <td>65117175</td>\n      <td>purchase</td>\n      <td>1.0</td>\n    </tr>\n    <tr>\n      <td>10 Second Ninja</td>\n      <td>33013552</td>\n      <td>purchase</td>\n      <td>1.0</td>\n    </tr>\n    <tr>\n      <td>10,000,000</td>\n      <td>33865373</td>\n      <td>purchase</td>\n      <td>1.0</td>\n    </tr>\n    <tr>\n      <td>...</td>\n      <td>...</td>\n      <td>...</td>\n      <td>...</td>\n    </tr>\n    <tr>\n      <td>sZone-Online</td>\n      <td>264253640</td>\n      <td>purchase</td>\n      <td>1.0</td>\n    </tr>\n    <tr>\n      <td>samurai_jazz</td>\n      <td>250375228</td>\n      <td>purchase</td>\n      <td>1.0</td>\n    </tr>\n    <tr>\n      <td>the static speaks my name</td>\n      <td>264253640</td>\n      <td>purchase</td>\n      <td>1.0</td>\n    </tr>\n    <tr>\n      <td>theHunter</td>\n      <td>308653033</td>\n      <td>purchase</td>\n      <td>1.0</td>\n    </tr>\n    <tr>\n      <td>theHunter Primal</td>\n      <td>62878249</td>\n      <td>purchase</td>\n      <td>1.0</td>\n    </tr>\n  </tbody>\n</table>\n<p>5155 rows × 3 columns</p>\n</div>"
     },
     "metadata": {},
     "output_type": "execute_result",
     "execution_count": 4
    }
   ],
   "source": [
    "data_games_group = data.groupby('game_title')\n",
    "data_games_group.first()\n"
   ],
   "metadata": {
    "collapsed": false,
    "pycharm": {
     "name": "#%%\n",
     "is_executing": false
    }
   }
  },
  {
   "cell_type": "code",
   "execution_count": 5,
   "outputs": [
    {
     "data": {
      "text/plain": "count    199293.000000\nmean         17.934247\nstd         138.297952\nmin           0.100000\n25%           1.000000\n50%           1.000000\n75%           1.400000\nmax       11754.000000\nName: value, dtype: float64"
     },
     "metadata": {},
     "output_type": "execute_result",
     "execution_count": 5
    }
   ],
   "source": [
    "data['value'].describe()"
   ],
   "metadata": {
    "collapsed": false,
    "pycharm": {
     "name": "#%%\n",
     "is_executing": false
    }
   }
  },
  {
   "cell_type": "code",
   "execution_count": 6,
   "outputs": [
    {
     "data": {
      "text/plain": "<matplotlib.axes._subplots.AxesSubplot at 0x20fb54d1d48>"
     },
     "metadata": {},
     "output_type": "execute_result",
     "execution_count": 6
    },
    {
     "data": {
      "text/plain": "<Figure size 432x288 with 1 Axes>",
      "image/png": "[encoded data removed]"
     },
     "metadata": {
      "needs_background": "light"
     },
     "output_type": "display_data"
    }
   ],
   "source": [
    "%matplotlib inline\n",
    "data[data['value'] != 1.0]['value'].hist(bins=1000)"
   ],
   "metadata": {
    "collapsed": false,
    "pycharm": {
     "name": "#%%\n",
     "is_executing": false
    }
   }
  },
  {
   "cell_type": "code",
   "execution_count": 7,
   "outputs": [
    {
     "data": {
      "text/plain": "array([1.000000e-01, 1.175490e+03, 2.350880e+03, 3.526270e+03,\n       4.701660e+03, 5.877050e+03, 7.052440e+03, 8.227830e+03,\n       9.403220e+03, 1.057861e+04, 1.175400e+04])"
     },
     "metadata": {},
     "output_type": "execute_result",
     "execution_count": 7
    },
    {
     "data": {
      "text/plain": "<Figure size 432x288 with 1 Axes>",
      "image/png": "[encoded data removed]"
     },
     "metadata": {
      "needs_background": "light"
     },
     "output_type": "display_data"
    }
   ],
   "source": [
    "_, bins, _ = plt.hist(data[data['value'] != 1.0]['value'])\n",
    "bins"
   ],
   "metadata": {
    "collapsed": false,
    "pycharm": {
     "name": "#%%\n",
     "is_executing": false
    }
   }
  },
  {
   "cell_type": "code",
   "execution_count": 8,
   "outputs": [
    {
     "data": {
      "text/plain": "<matplotlib.axes._subplots.AxesSubplot at 0x20fb79e4748>"
     },
     "metadata": {},
     "output_type": "execute_result",
     "execution_count": 8
    },
    {
     "data": {
      "text/plain": "<Figure size 432x288 with 1 Axes>",
      "image/png": "[encoded data removed]"
     },
     "metadata": {
      "needs_background": "light"
     },
     "output_type": "display_data"
    }
   ],
   "source": [
    "data[np.logical_and(data.value != 1.0, data.value < 200)]['value'].hist()"
   ],
   "metadata": {
    "collapsed": false,
    "pycharm": {
     "name": "#%%\n",
     "is_executing": false
    }
   }
  },
  {
   "cell_type": "code",
   "execution_count": 9,
   "outputs": [
    {
     "data": {
      "text/plain": "<matplotlib.axes._subplots.AxesSubplot at 0x20fb8b3b748>"
     },
     "metadata": {},
     "output_type": "execute_result",
     "execution_count": 9
    },
    {
     "data": {
      "text/plain": "<Figure size 432x288 with 1 Axes>",
      "image/png": "[encoded data removed]"
     },
     "metadata": {
      "needs_background": "light"
     },
     "output_type": "display_data"
    }
   ],
   "source": [
    "data[np.logical_and(data.value != 1.0, data.value < 25)]['value'].hist()"
   ],
   "metadata": {
    "collapsed": false,
    "pycharm": {
     "name": "#%%\n",
     "is_executing": false
    }
   }
  },
  {
   "cell_type": "code",
   "execution_count": 10,
   "outputs": [
    {
     "name": "stderr",
     "text": [
      "C:\\Users\\patrykj\\AppData\\Local\\Continuum\\anaconda3\\envs\\test\\lib\\site-packages\\pandas\\core\\indexing.py:494: SettingWithCopyWarning: \nA value is trying to be set on a copy of a slice from a DataFrame.\nTry using .loc[row_indexer,col_indexer] = value instead\n\nSee the caveats in the documentation: http://pandas.pydata.org/pandas-docs/stable/user_guide/indexing.html#returning-a-view-versus-a-copy\n  self.obj[item] = s\n"
     ],
     "output_type": "stream"
    },
    {
     "data": {
      "text/plain": "0         1\n1         6\n2         1\n3         5\n4         1\n         ..\n199995    3\n199996    1\n199997    3\n199998    1\n199999    3\nName: value, Length: 199293, dtype: int64"
     },
     "metadata": {},
     "output_type": "execute_result",
     "execution_count": 10
    }
   ],
   "source": [
    "purchased = data[data['behavior_name'] == 'purchase']\n",
    "purchased.loc[:, ['value']] = 1\n",
    "\n",
    "played = data[data['behavior_name'] != 'purchase']\n",
    "def convert_data_to_rating(value):\n",
    "    if value > 1000:\n",
    "        return 7\n",
    "    if value > 200:\n",
    "        return  6\n",
    "    if value > 20:\n",
    "        return 5\n",
    "    if value > 5:\n",
    "        return 4\n",
    "    if value > 1:\n",
    "        return 3\n",
    "    return 2\n",
    "played.loc[:, ['value']] = played['value'].map(convert_data_to_rating)\n",
    "played['value'].append(purchased['value']).sort_index()"
   ],
   "metadata": {
    "collapsed": false,
    "pycharm": {
     "name": "#%%\n",
     "is_executing": false
    }
   }
  },
  {
   "cell_type": "code",
   "execution_count": 11,
   "outputs": [],
   "source": [
    "data_group_behaviour = data.copy()\n",
    "data_group_behaviour['ratings'] = played['value'].append(purchased['value']).sort_index()"
   ],
   "metadata": {
    "collapsed": false,
    "pycharm": {
     "name": "#%%\n",
     "is_executing": false
    }
   }
  },
  {
   "cell_type": "code",
   "execution_count": 12,
   "outputs": [
    {
     "data": {
      "text/plain": "          user_id                  game_title behavior_name  value  ratings\n0       151603712  The Elder Scrolls V Skyrim      purchase    1.0        1\n1       151603712  The Elder Scrolls V Skyrim          play  273.0        6\n2       151603712                   Fallout 4      purchase    1.0        1\n3       151603712                   Fallout 4          play   87.0        5\n4       151603712                       Spore      purchase    1.0        1\n...           ...                         ...           ...    ...      ...\n199995  128470551                 Titan Souls          play    1.5        3\n199996  128470551  Grand Theft Auto Vice City      purchase    1.0        1\n199997  128470551  Grand Theft Auto Vice City          play    1.5        3\n199998  128470551                        RUSH      purchase    1.0        1\n199999  128470551                        RUSH          play    1.4        3\n\n[199293 rows x 5 columns]",
      "text/html": "<div>\n<style scoped>\n    .dataframe tbody tr th:only-of-type {\n        vertical-align: middle;\n    }\n\n    .dataframe tbody tr th {\n        vertical-align: top;\n    }\n\n    .dataframe thead th {\n        text-align: right;\n    }\n</style>\n<table border=\"1\" class=\"dataframe\">\n  <thead>\n    <tr style=\"text-align: right;\">\n      <th></th>\n      <th>user_id</th>\n      <th>game_title</th>\n      <th>behavior_name</th>\n      <th>value</th>\n      <th>ratings</th>\n    </tr>\n  </thead>\n  <tbody>\n    <tr>\n      <td>0</td>\n      <td>151603712</td>\n      <td>The Elder Scrolls V Skyrim</td>\n      <td>purchase</td>\n      <td>1.0</td>\n      <td>1</td>\n    </tr>\n    <tr>\n      <td>1</td>\n      <td>151603712</td>\n      <td>The Elder Scrolls V Skyrim</td>\n      <td>play</td>\n      <td>273.0</td>\n      <td>6</td>\n    </tr>\n    <tr>\n      <td>2</td>\n      <td>151603712</td>\n      <td>Fallout 4</td>\n      <td>purchase</td>\n      <td>1.0</td>\n      <td>1</td>\n    </tr>\n    <tr>\n      <td>3</td>\n      <td>151603712</td>\n      <td>Fallout 4</td>\n      <td>play</td>\n      <td>87.0</td>\n      <td>5</td>\n    </tr>\n    <tr>\n      <td>4</td>\n      <td>151603712</td>\n      <td>Spore</td>\n      <td>purchase</td>\n      <td>1.0</td>\n      <td>1</td>\n    </tr>\n    <tr>\n      <td>...</td>\n      <td>...</td>\n      <td>...</td>\n      <td>...</td>\n      <td>...</td>\n      <td>...</td>\n    </tr>\n    <tr>\n      <td>199995</td>\n      <td>128470551</td>\n      <td>Titan Souls</td>\n      <td>play</td>\n      <td>1.5</td>\n      <td>3</td>\n    </tr>\n    <tr>\n      <td>199996</td>\n      <td>128470551</td>\n      <td>Grand Theft Auto Vice City</td>\n      <td>purchase</td>\n      <td>1.0</td>\n      <td>1</td>\n    </tr>\n    <tr>\n      <td>199997</td>\n      <td>128470551</td>\n      <td>Grand Theft Auto Vice City</td>\n      <td>play</td>\n      <td>1.5</td>\n      <td>3</td>\n    </tr>\n    <tr>\n      <td>199998</td>\n      <td>128470551</td>\n      <td>RUSH</td>\n      <td>purchase</td>\n      <td>1.0</td>\n      <td>1</td>\n    </tr>\n    <tr>\n      <td>199999</td>\n      <td>128470551</td>\n      <td>RUSH</td>\n      <td>play</td>\n      <td>1.4</td>\n      <td>3</td>\n    </tr>\n  </tbody>\n</table>\n<p>199293 rows × 5 columns</p>\n</div>"
     },
     "metadata": {},
     "output_type": "execute_result",
     "execution_count": 12
    }
   ],
   "source": [
    "data_group_behaviour\n"
   ],
   "metadata": {
    "collapsed": false,
    "pycharm": {
     "name": "#%%\n",
     "is_executing": false
    }
   }
  },
  {
   "cell_type": "code",
   "execution_count": 13,
   "outputs": [
    {
     "data": {
      "text/plain": "0         False\n1          True\n2         False\n3          True\n4         False\n          ...  \n199995     True\n199996    False\n199997     True\n199998    False\n199999     True\nLength: 199293, dtype: bool"
     },
     "metadata": {},
     "output_type": "execute_result",
     "execution_count": 13
    }
   ],
   "source": [
    "data_group_behaviour.loc[:, ['user_id', 'game_title']].duplicated()"
   ],
   "metadata": {
    "collapsed": false,
    "pycharm": {
     "name": "#%%\n",
     "is_executing": false
    }
   }
  },
  {
   "cell_type": "code",
   "execution_count": 14,
   "outputs": [],
   "source": [
    "sorted_d = data_group_behaviour.sort_values(by=['user_id', 'game_title', 'behavior_name'])"
   ],
   "metadata": {
    "collapsed": false,
    "pycharm": {
     "name": "#%%\n",
     "is_executing": false
    }
   }
  },
  {
   "cell_type": "code",
   "execution_count": 15,
   "outputs": [
    {
     "data": {
      "text/plain": "          user_id                    game_title behavior_name  value\n64738    71411882          Grand Theft Auto III          play    0.2\n74679    33865373   Sid Meier's Civilization IV          play    2.0\n166995   59925638       Tom Clancy's H.A.W.X. 2          play    7.1\n170263  148362155  Grand Theft Auto San Andreas          play   12.5\n56945    50769696  Grand Theft Auto San Andreas          play   10.9\n...           ...                           ...           ...    ...\n81221   101000574                   BLOCKADE 3D      purchase    1.0\n81191   239389313                          TERA      purchase    1.0\n81188   250357493               Team Fortress 2      purchase    1.0\n81186   250357493          No More Room in Hell      purchase    1.0\n80855   119619506                      POSTAL 2      purchase    1.0\n\n[70489 rows x 4 columns]",
      "text/html": "<div>\n<style scoped>\n    .dataframe tbody tr th:only-of-type {\n        vertical-align: middle;\n    }\n\n    .dataframe tbody tr th {\n        vertical-align: top;\n    }\n\n    .dataframe thead th {\n        text-align: right;\n    }\n</style>\n<table border=\"1\" class=\"dataframe\">\n  <thead>\n    <tr style=\"text-align: right;\">\n      <th></th>\n      <th>user_id</th>\n      <th>game_title</th>\n      <th>behavior_name</th>\n      <th>value</th>\n    </tr>\n  </thead>\n  <tbody>\n    <tr>\n      <td>64738</td>\n      <td>71411882</td>\n      <td>Grand Theft Auto III</td>\n      <td>play</td>\n      <td>0.2</td>\n    </tr>\n    <tr>\n      <td>74679</td>\n      <td>33865373</td>\n      <td>Sid Meier's Civilization IV</td>\n      <td>play</td>\n      <td>2.0</td>\n    </tr>\n    <tr>\n      <td>166995</td>\n      <td>59925638</td>\n      <td>Tom Clancy's H.A.W.X. 2</td>\n      <td>play</td>\n      <td>7.1</td>\n    </tr>\n    <tr>\n      <td>170263</td>\n      <td>148362155</td>\n      <td>Grand Theft Auto San Andreas</td>\n      <td>play</td>\n      <td>12.5</td>\n    </tr>\n    <tr>\n      <td>56945</td>\n      <td>50769696</td>\n      <td>Grand Theft Auto San Andreas</td>\n      <td>play</td>\n      <td>10.9</td>\n    </tr>\n    <tr>\n      <td>...</td>\n      <td>...</td>\n      <td>...</td>\n      <td>...</td>\n      <td>...</td>\n    </tr>\n    <tr>\n      <td>81221</td>\n      <td>101000574</td>\n      <td>BLOCKADE 3D</td>\n      <td>purchase</td>\n      <td>1.0</td>\n    </tr>\n    <tr>\n      <td>81191</td>\n      <td>239389313</td>\n      <td>TERA</td>\n      <td>purchase</td>\n      <td>1.0</td>\n    </tr>\n    <tr>\n      <td>81188</td>\n      <td>250357493</td>\n      <td>Team Fortress 2</td>\n      <td>purchase</td>\n      <td>1.0</td>\n    </tr>\n    <tr>\n      <td>81186</td>\n      <td>250357493</td>\n      <td>No More Room in Hell</td>\n      <td>purchase</td>\n      <td>1.0</td>\n    </tr>\n    <tr>\n      <td>80855</td>\n      <td>119619506</td>\n      <td>POSTAL 2</td>\n      <td>purchase</td>\n      <td>1.0</td>\n    </tr>\n  </tbody>\n</table>\n<p>70489 rows × 4 columns</p>\n</div>"
     },
     "metadata": {},
     "output_type": "execute_result",
     "execution_count": 15
    }
   ],
   "source": [
    "data.sort_values(by=['behavior_name'])[data_group_behaviour.sort_values(by=['behavior_name']).loc[:, ['user_id', 'game_title']].duplicated()]"
   ],
   "metadata": {
    "collapsed": false,
    "pycharm": {
     "name": "#%%\n",
     "is_executing": false
    }
   }
  },
  {
   "cell_type": "code",
   "execution_count": 16,
   "outputs": [
    {
     "data": {
      "text/plain": "         user_id          game_title behavior_name  value  ratings\n19078  228908339  Grand Theft Auto V      purchase    1.0        1\n19079  228908339  Grand Theft Auto V          play   93.0        5",
      "text/html": "<div>\n<style scoped>\n    .dataframe tbody tr th:only-of-type {\n        vertical-align: middle;\n    }\n\n    .dataframe tbody tr th {\n        vertical-align: top;\n    }\n\n    .dataframe thead th {\n        text-align: right;\n    }\n</style>\n<table border=\"1\" class=\"dataframe\">\n  <thead>\n    <tr style=\"text-align: right;\">\n      <th></th>\n      <th>user_id</th>\n      <th>game_title</th>\n      <th>behavior_name</th>\n      <th>value</th>\n      <th>ratings</th>\n    </tr>\n  </thead>\n  <tbody>\n    <tr>\n      <td>19078</td>\n      <td>228908339</td>\n      <td>Grand Theft Auto V</td>\n      <td>purchase</td>\n      <td>1.0</td>\n      <td>1</td>\n    </tr>\n    <tr>\n      <td>19079</td>\n      <td>228908339</td>\n      <td>Grand Theft Auto V</td>\n      <td>play</td>\n      <td>93.0</td>\n      <td>5</td>\n    </tr>\n  </tbody>\n</table>\n</div>"
     },
     "metadata": {},
     "output_type": "execute_result",
     "execution_count": 16
    }
   ],
   "source": [
    "data_group_behaviour[np.logical_and(data_group_behaviour.user_id == 228908339, data_group_behaviour.game_title == 'Grand Theft Auto V')]"
   ],
   "metadata": {
    "collapsed": false,
    "pycharm": {
     "name": "#%%\n",
     "is_executing": false
    }
   }
  },
  {
   "cell_type": "code",
   "execution_count": 17,
   "outputs": [],
   "source": [
    "purchased_played = sorted_d[sorted_d.loc[:, ['user_id', 'game_title']].duplicated()]"
   ],
   "metadata": {
    "collapsed": false,
    "pycharm": {
     "name": "#%%\n",
     "is_executing": false
    }
   }
  },
  {
   "cell_type": "code",
   "execution_count": 18,
   "outputs": [],
   "source": [
    "final_data = pd.concat([data_group_behaviour, purchased_played]).drop_duplicates(keep=False)"
   ],
   "metadata": {
    "collapsed": false,
    "pycharm": {
     "name": "#%%\n",
     "is_executing": false
    }
   }
  },
  {
   "cell_type": "code",
   "execution_count": 19,
   "outputs": [
    {
     "data": {
      "text/plain": "<matplotlib.axes._subplots.AxesSubplot at 0x20fb8e0ed08>"
     },
     "metadata": {},
     "output_type": "execute_result",
     "execution_count": 19
    },
    {
     "data": {
      "text/plain": "<Figure size 432x288 with 1 Axes>",
      "image/png": "[encoded data removed]"
     },
     "metadata": {
      "needs_background": "light"
     },
     "output_type": "display_data"
    }
   ],
   "source": [
    "final_data['ratings'].hist(bins=[0.5, 1.5, 2.5, 3.5, 4.5, 5.5, 6.5, 7.5])"
   ],
   "metadata": {
    "collapsed": false,
    "pycharm": {
     "name": "#%%\n",
     "is_executing": false
    }
   }
  },
  {
   "cell_type": "code",
   "execution_count": 26,
   "outputs": [
    {
     "data": {
      "text/plain": "NearestNeighbors(algorithm='brute', leaf_size=30, metric='cosine',\n         metric_params=None, n_jobs=-1, n_neighbors=20, p=2, radius=1.0)"
     },
     "metadata": {},
     "output_type": "execute_result",
     "execution_count": 26
    }
   ],
   "source": [
    "game_features = final_data.pivot(\n",
    "    index='user_id',\n",
    "    columns='game_title',\n",
    "    values='ratings'\n",
    ").fillna(0)\n",
    "\n",
    "from scipy.sparse import csr_matrix\n",
    "game_features_matrix = csr_matrix(game_features.values)\n",
    "game_features_matrix\n",
    "\n",
    "\n",
    "from sklearn.neighbors import NearestNeighbors\n",
    "model_knn = NearestNeighbors(metric='cosine', algorithm='brute', n_neighbors=20, n_jobs=-1)\n",
    "model_knn.fit(game_features_matrix)"
   ],
   "metadata": {
    "collapsed": false,
    "pycharm": {
     "name": "#%%\n",
     "is_executing": false
    }
   }
  },
  {
   "cell_type": "code",
   "execution_count": null,
   "outputs": [],
   "source": [
    "# from fuzzywuzzy import fuzz\n",
    "game = 'fallout'\n",
    "matches = []\n",
    "all_games = game_features.index.values\n",
    "for c_game in all_games:\n",
    "    ratio = fuzz.ratio(game.lower(), c_game.lower())\n",
    "    if ratio >= 60:\n",
    "        matches.append((c_game, ratio))\n",
    "        # break\n",
    "# if len(matches)>1:\n",
    "match_tuple = sorted(matches, key=lambda x: x[1])[::-1]\n",
    "if not match_tuple:\n",
    "    print('Oops! No match is found')\n",
    "else:\n",
    "    print('Found possible matches in our database: '\n",
    "                      '{0}\\n'.format([x[0] for x in match_tuple]))\n",
    "    match = match_tuple[0][0]\n"
   ],
   "metadata": {
    "collapsed": false,
    "pycharm": {
     "name": "#%%\n"
    }
   }
  },
  {
   "cell_type": "code",
   "execution_count": 27,
   "outputs": [],
   "source": [
    "n_recommendations = 10\n",
    "match = 71411882\n",
    "idx = game_features.index.get_loc(match)\n",
    "distances, indices = model_knn.kneighbors(\n",
    "            game_features_matrix[idx],\n",
    "            n_neighbors=n_recommendations+1)\n",
    "raw_recommends = \\\n",
    "            sorted(\n",
    "                list(\n",
    "                    zip(\n",
    "                        indices.squeeze().tolist(),\n",
    "                        distances.squeeze().tolist()\n",
    "                    )\n",
    "                ),\n",
    "                key=lambda x: x[1]\n",
    "            )[:0:-1]"
   ],
   "metadata": {
    "collapsed": false,
    "pycharm": {
     "name": "#%%\n",
     "is_executing": false
    }
   }
  },
  {
   "cell_type": "code",
   "execution_count": 28,
   "outputs": [
    {
     "name": "stdout",
     "text": [
      "1: 174033209, with distance of 0.6541039767145349\n2: 273597380, with distance of 0.6540042134023747\n3: 129162036, with distance of 0.6529715796300248\n4: 131386705, with distance of 0.648508656654981\n5: 161211955, with distance of 0.6445838710568867\n6: 216261706, with distance of 0.6382771321933918\n7: 90878103, with distance of 0.6373148952076548\n8: 13556140, with distance of 0.6282376370978612\n9: 40280688, with distance of 0.5756435325545981\n10: 156426681, with distance of 0.5377551757712142\n"
     ],
     "output_type": "stream"
    }
   ],
   "source": [
    "for i, (idx, dist) in enumerate(raw_recommends):\n",
    "            print('{0}: {1}, with distance '\n",
    "                  'of {2}'.format(i+1, game_features.index[idx], dist))"
   ],
   "metadata": {
    "collapsed": false,
    "pycharm": {
     "name": "#%%\n",
     "is_executing": false
    }
   }
  }
 ],
 "metadata": {
  "language_info": {
   "codemirror_mode": {
    "name": "ipython",
    "version": 2
   },
   "file_extension": ".py",
   "mimetype": "text/x-python",
   "name": "python",
   "nbconvert_exporter": "python",
   "pygments_lexer": "ipython2",
   "version": "2.7.6"
  },
  "kernelspec": {
   "name": "python3",
   "language": "python",
   "display_name": "Python 3"
  },
  "pycharm": {
   "stem_cell": {
    "cell_type": "raw",
    "source": [],
    "metadata": {
     "collapsed": false
    }
   }
  }
 },
 "nbformat": 4,
 "nbformat_minor": 0
}