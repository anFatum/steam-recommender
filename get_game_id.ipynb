{
 "cells": [
  {
   "cell_type": "code",
   "execution_count": 33,
   "metadata": {
    "collapsed": true,
    "pycharm": {
     "is_executing": false
    }
   },
   "outputs": [],
   "source": [
    "import os\n",
    "import pandas as pd\n",
    "import matplotlib.pyplot as plt\n",
    "import numpy as np\n",
    "import requests\n",
    "from fuzzywuzzy import fuzz\n"
   ]
  },
  {
   "cell_type": "code",
   "execution_count": 2,
   "outputs": [
    {
     "data": {
      "text/plain": "   Unnamed: 0    user_id                  game_title  ratings\n0           1  151603712  The Elder Scrolls V Skyrim        6\n1           3  151603712                   Fallout 4        5\n2           5  151603712                       Spore        4\n3           7  151603712           Fallout New Vegas        4\n4           9  151603712               Left 4 Dead 2        4",
      "text/html": "<div>\n<style scoped>\n    .dataframe tbody tr th:only-of-type {\n        vertical-align: middle;\n    }\n\n    .dataframe tbody tr th {\n        vertical-align: top;\n    }\n\n    .dataframe thead th {\n        text-align: right;\n    }\n</style>\n<table border=\"1\" class=\"dataframe\">\n  <thead>\n    <tr style=\"text-align: right;\">\n      <th></th>\n      <th>Unnamed: 0</th>\n      <th>user_id</th>\n      <th>game_title</th>\n      <th>ratings</th>\n    </tr>\n  </thead>\n  <tbody>\n    <tr>\n      <td>0</td>\n      <td>1</td>\n      <td>151603712</td>\n      <td>The Elder Scrolls V Skyrim</td>\n      <td>6</td>\n    </tr>\n    <tr>\n      <td>1</td>\n      <td>3</td>\n      <td>151603712</td>\n      <td>Fallout 4</td>\n      <td>5</td>\n    </tr>\n    <tr>\n      <td>2</td>\n      <td>5</td>\n      <td>151603712</td>\n      <td>Spore</td>\n      <td>4</td>\n    </tr>\n    <tr>\n      <td>3</td>\n      <td>7</td>\n      <td>151603712</td>\n      <td>Fallout New Vegas</td>\n      <td>4</td>\n    </tr>\n    <tr>\n      <td>4</td>\n      <td>9</td>\n      <td>151603712</td>\n      <td>Left 4 Dead 2</td>\n      <td>4</td>\n    </tr>\n  </tbody>\n</table>\n</div>"
     },
     "metadata": {},
     "output_type": "execute_result",
     "execution_count": 2
    }
   ],
   "source": [
    "data = pd.read_csv('data\\\\steam-processed.csv')\n",
    "data.head()"
   ],
   "metadata": {
    "collapsed": false,
    "pycharm": {
     "name": "#%%\n",
     "is_executing": false
    }
   }
  },
  {
   "cell_type": "code",
   "execution_count": 3,
   "outputs": [
    {
     "data": {
      "text/plain": "array(['The Elder Scrolls V Skyrim', 'Fallout 4', 'Spore', ...,\n       'Space Colony', 'Life is Hard', 'Executive Assault'], dtype=object)"
     },
     "metadata": {},
     "output_type": "execute_result",
     "execution_count": 3
    }
   ],
   "source": [
    "empty_games = data.copy()\n",
    "unique_games = empty_games.game_title.unique()\n",
    "unique_games\n"
   ],
   "metadata": {
    "collapsed": false,
    "pycharm": {
     "name": "#%%\n",
     "is_executing": false
    }
   }
  },
  {
   "cell_type": "code",
   "execution_count": 4,
   "outputs": [
    {
     "data": {
      "text/plain": "200"
     },
     "metadata": {},
     "output_type": "execute_result",
     "execution_count": 4
    }
   ],
   "source": [
    "response = requests.get('http://api.steampowered.com/ISteamApps/GetAppList/v0002/')\n",
    "response.status_code"
   ],
   "metadata": {
    "collapsed": false,
    "pycharm": {
     "name": "#%%\n",
     "is_executing": false
    }
   }
  },
  {
   "cell_type": "code",
   "execution_count": 5,
   "outputs": [
    {
     "data": {
      "text/plain": "dict_keys(['applist'])"
     },
     "metadata": {},
     "output_type": "execute_result",
     "execution_count": 5
    }
   ],
   "source": [
    "list_of_games = response.json()\n",
    "list_of_games.keys()"
   ],
   "metadata": {
    "collapsed": false,
    "pycharm": {
     "name": "#%%\n",
     "is_executing": false
    }
   }
  },
  {
   "cell_type": "code",
   "execution_count": 6,
   "outputs": [
    {
     "data": {
      "text/plain": "dict_keys(['apps'])"
     },
     "metadata": {},
     "output_type": "execute_result",
     "execution_count": 6
    }
   ],
   "source": [
    "list_of_games['applist'].keys()"
   ],
   "metadata": {
    "collapsed": false,
    "pycharm": {
     "name": "#%%\n",
     "is_executing": false
    }
   }
  },
  {
   "cell_type": "code",
   "execution_count": 8,
   "outputs": [
    {
     "data": {
      "text/plain": "     appid                           name\n0   216938  Pieterw test app76 ( 216938 )\n1   660010                          test2\n2   660130                          test3\n3  1142500    Fun with Ragdolls: The Game\n4  1142510            Cucumber Defense VR",
      "text/html": "<div>\n<style scoped>\n    .dataframe tbody tr th:only-of-type {\n        vertical-align: middle;\n    }\n\n    .dataframe tbody tr th {\n        vertical-align: top;\n    }\n\n    .dataframe thead th {\n        text-align: right;\n    }\n</style>\n<table border=\"1\" class=\"dataframe\">\n  <thead>\n    <tr style=\"text-align: right;\">\n      <th></th>\n      <th>appid</th>\n      <th>name</th>\n    </tr>\n  </thead>\n  <tbody>\n    <tr>\n      <td>0</td>\n      <td>216938</td>\n      <td>Pieterw test app76 ( 216938 )</td>\n    </tr>\n    <tr>\n      <td>1</td>\n      <td>660010</td>\n      <td>test2</td>\n    </tr>\n    <tr>\n      <td>2</td>\n      <td>660130</td>\n      <td>test3</td>\n    </tr>\n    <tr>\n      <td>3</td>\n      <td>1142500</td>\n      <td>Fun with Ragdolls: The Game</td>\n    </tr>\n    <tr>\n      <td>4</td>\n      <td>1142510</td>\n      <td>Cucumber Defense VR</td>\n    </tr>\n  </tbody>\n</table>\n</div>"
     },
     "metadata": {},
     "output_type": "execute_result",
     "execution_count": 8
    }
   ],
   "source": [
    "games_df = pd.DataFrame(list_of_games['applist']['apps'])\n",
    "games_df.head()"
   ],
   "metadata": {
    "collapsed": false,
    "pycharm": {
     "name": "#%%\n",
     "is_executing": false
    }
   }
  },
  {
   "cell_type": "code",
   "execution_count": 10,
   "outputs": [],
   "source": [
    "needed_games = games_df[np.in1d(games_df.name, unique_games)]\n",
    "needed_games.columns = ['appid', 'game_title']"
   ],
   "metadata": {
    "collapsed": false,
    "pycharm": {
     "name": "#%%\n",
     "is_executing": false
    }
   }
  },
  {
   "cell_type": "code",
   "execution_count": 17,
   "outputs": [
    {
     "data": {
      "text/plain": "        appid           game_title\n3458  1156290                 Home\n4459    81198     Worms Crazy Golf\n4765    80895  Trainz Simulator 12\n4794    80820                 BEEP\n4797    80823     Vertex Dispenser",
      "text/html": "<div>\n<style scoped>\n    .dataframe tbody tr th:only-of-type {\n        vertical-align: middle;\n    }\n\n    .dataframe tbody tr th {\n        vertical-align: top;\n    }\n\n    .dataframe thead th {\n        text-align: right;\n    }\n</style>\n<table border=\"1\" class=\"dataframe\">\n  <thead>\n    <tr style=\"text-align: right;\">\n      <th></th>\n      <th>appid</th>\n      <th>game_title</th>\n    </tr>\n  </thead>\n  <tbody>\n    <tr>\n      <td>3458</td>\n      <td>1156290</td>\n      <td>Home</td>\n    </tr>\n    <tr>\n      <td>4459</td>\n      <td>81198</td>\n      <td>Worms Crazy Golf</td>\n    </tr>\n    <tr>\n      <td>4765</td>\n      <td>80895</td>\n      <td>Trainz Simulator 12</td>\n    </tr>\n    <tr>\n      <td>4794</td>\n      <td>80820</td>\n      <td>BEEP</td>\n    </tr>\n    <tr>\n      <td>4797</td>\n      <td>80823</td>\n      <td>Vertex Dispenser</td>\n    </tr>\n  </tbody>\n</table>\n</div>"
     },
     "metadata": {},
     "output_type": "execute_result",
     "execution_count": 17
    }
   ],
   "source": [
    "needed_games.head()"
   ],
   "metadata": {
    "collapsed": false,
    "pycharm": {
     "name": "#%%\n",
     "is_executing": false
    }
   }
  },
  {
   "cell_type": "code",
   "execution_count": 23,
   "outputs": [],
   "source": [
    "new_data = pd.merge(data, needed_games, on=['game_title'], how='left')"
   ],
   "metadata": {
    "collapsed": false,
    "pycharm": {
     "name": "#%%\n",
     "is_executing": false
    }
   }
  },
  {
   "cell_type": "code",
   "execution_count": 31,
   "outputs": [
    {
     "data": {
      "text/plain": "(1667,)"
     },
     "metadata": {},
     "output_type": "execute_result",
     "execution_count": 31
    }
   ],
   "source": [
    "unique_games[~np.in1d(unique_games,games_df.name)].shape"
   ],
   "metadata": {
    "collapsed": false,
    "pycharm": {
     "name": "#%%\n",
     "is_executing": false
    }
   }
  },
  {
   "cell_type": "code",
   "execution_count": 30,
   "outputs": [],
   "source": [
    "new_data.loc[new_data.game_title == 'The Elder Scrolls V Skyrim', 'game_title'] = 'The Elder Scrolls V: Skyrim'\n",
    "new_data.loc[new_data.game_title == 'Fallout New Vegas', 'game_title'] = 'Fallout: New Vegas'\n",
    "new_data.loc[new_data.game_title == 'Dead Island Epidemic', 'game_title'] = 'Dead Island: Epidemic'\n"
   ],
   "metadata": {
    "collapsed": false,
    "pycharm": {
     "name": "#%%\n",
     "is_executing": false
    }
   }
  },
  {
   "cell_type": "code",
   "execution_count": 34,
   "outputs": [
    {
     "traceback": [
      "\u001b[1;31m---------------------------------------------------------------------------\u001b[0m",
      "\u001b[1;31mAttributeError\u001b[0m                            Traceback (most recent call last)",
      "\u001b[1;32m<ipython-input-34-e6522e6f9bb2>\u001b[0m in \u001b[0;36m<module>\u001b[1;34m\u001b[0m\n\u001b[0;32m      4\u001b[0m     \u001b[0mmatches\u001b[0m \u001b[1;33m=\u001b[0m \u001b[1;33m[\u001b[0m\u001b[1;33m]\u001b[0m\u001b[1;33m\u001b[0m\u001b[1;33m\u001b[0m\u001b[0m\n\u001b[0;32m      5\u001b[0m     \u001b[1;32mfor\u001b[0m \u001b[0msteam_game\u001b[0m \u001b[1;32min\u001b[0m \u001b[0mgames_df\u001b[0m\u001b[1;33m.\u001b[0m\u001b[0mname\u001b[0m\u001b[1;33m:\u001b[0m\u001b[1;33m\u001b[0m\u001b[1;33m\u001b[0m\u001b[0m\n\u001b[1;32m----> 6\u001b[1;33m         \u001b[0mratio\u001b[0m \u001b[1;33m=\u001b[0m \u001b[0mfuzz\u001b[0m\u001b[1;33m.\u001b[0m\u001b[0mratio\u001b[0m\u001b[1;33m(\u001b[0m\u001b[0mgame\u001b[0m\u001b[1;33m.\u001b[0m\u001b[0mlower\u001b[0m\u001b[1;33m(\u001b[0m\u001b[1;33m)\u001b[0m\u001b[1;33m,\u001b[0m \u001b[0msteam_game\u001b[0m\u001b[1;33m.\u001b[0m\u001b[0mname\u001b[0m\u001b[1;33m.\u001b[0m\u001b[0mlower\u001b[0m\u001b[1;33m(\u001b[0m\u001b[1;33m)\u001b[0m\u001b[1;33m)\u001b[0m\u001b[1;33m\u001b[0m\u001b[1;33m\u001b[0m\u001b[0m\n\u001b[0m\u001b[0;32m      7\u001b[0m         \u001b[1;32mif\u001b[0m \u001b[0mratio\u001b[0m \u001b[1;33m>=\u001b[0m \u001b[1;36m60\u001b[0m\u001b[1;33m:\u001b[0m\u001b[1;33m\u001b[0m\u001b[1;33m\u001b[0m\u001b[0m\n\u001b[0;32m      8\u001b[0m             \u001b[0mmatches\u001b[0m\u001b[1;33m.\u001b[0m\u001b[0mappend\u001b[0m\u001b[1;33m(\u001b[0m\u001b[1;33m(\u001b[0m\u001b[0msteam_game\u001b[0m\u001b[1;33m,\u001b[0m \u001b[0mratio\u001b[0m\u001b[1;33m)\u001b[0m\u001b[1;33m)\u001b[0m\u001b[1;33m\u001b[0m\u001b[1;33m\u001b[0m\u001b[0m\n",
      "\u001b[1;31mAttributeError\u001b[0m: 'int' object has no attribute 'lower'"
     ],
     "ename": "AttributeError",
     "evalue": "'int' object has no attribute 'lower'",
     "output_type": "error"
    }
   ],
   "source": [
    "leftover = unique_games[~np.in1d(unique_games,games_df.name)].shape\n",
    "for game in leftover:\n",
    "    matches = []\n",
    "    for steam_game in games_df.name:\n",
    "        ratio = fuzz.ratio(game.lower(), steam_game.lower())\n",
    "        if ratio >= 60:\n",
    "            matches.append((steam_game, ratio))\n",
    "    match_tuple = sorted(matches, key=lambda x: x[1])[::-1]\n",
    "    match = match_tuple[0][0]\n",
    "    print(f'Replacing {game}: to {match}')\n",
    "    new_data.loc[new_data.game_title == game, 'game_title'] = match\n",
    "\n"
   ],
   "metadata": {
    "collapsed": false,
    "pycharm": {
     "name": "#%%\n",
     "is_executing": false
    }
   }
  }
 ],
 "metadata": {
  "language_info": {
   "codemirror_mode": {
    "name": "ipython",
    "version": 2
   },
   "file_extension": ".py",
   "mimetype": "text/x-python",
   "name": "python",
   "nbconvert_exporter": "python",
   "pygments_lexer": "ipython2",
   "version": "2.7.6"
  },
  "kernelspec": {
   "name": "python3",
   "language": "python",
   "display_name": "Python 3"
  },
  "pycharm": {
   "stem_cell": {
    "cell_type": "raw",
    "source": [],
    "metadata": {
     "collapsed": false
    }
   }
  }
 },
 "nbformat": 4,
 "nbformat_minor": 0
}