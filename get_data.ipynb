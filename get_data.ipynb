{
 "cells": [
  {
   "cell_type": "code",
   "execution_count": 2,
   "metadata": {
    "collapsed": true,
    "pycharm": {
     "is_executing": false
    }
   },
   "outputs": [],
   "source": [
    "import os\n",
    "import pandas as pd\n",
    "import matplotlib.pyplot as plt\n",
    "import numpy as np\n",
    "import requests"
   ]
  },
  {
   "cell_type": "code",
   "execution_count": 17,
   "outputs": [],
   "source": [
    "user_ids = pd.read_csv('data\\\\steam_new_users.csv')\n",
    "user_ids = user_ids['user_id'].values.tolist()"
   ],
   "metadata": {
    "collapsed": false,
    "pycharm": {
     "name": "#%%\n",
     "is_executing": false
    }
   }
  },
  {
   "cell_type": "code",
   "execution_count": 6,
   "outputs": [
    {
     "name": "stdout",
     "text": [
      "30\n",
      "30\n",
      "220\n",
      "297\n",
      "365\n",
      "365\n",
      "386\n",
      "416\n",
      "457\n",
      "475\n",
      "519\n",
      "534\n",
      "602\n",
      "661\n",
      "704\n",
      "814\n",
      "814\n",
      "941\n",
      "1011\n",
      "1023\n",
      "1023\n",
      "1047\n",
      "1077\n",
      "1079\n",
      "1098\n",
      "1155\n",
      "1159\n",
      "1159\n",
      "1308\n",
      "1435\n",
      "1435\n",
      "1441\n",
      "1458\n",
      "1463\n",
      "1585\n",
      "1689\n",
      "1696\n",
      "1875\n",
      "1889\n",
      "1979\n",
      "2285\n",
      "2298\n",
      "2378\n",
      "2401\n",
      "2431\n",
      "2431\n",
      "2469\n",
      "2478\n",
      "2495\n",
      "2585\n",
      "2585\n",
      "2630\n",
      "2651\n",
      "2858\n",
      "2872\n",
      "2872\n",
      "2872\n",
      "3033\n",
      "3131\n",
      "3299\n",
      "3329\n",
      "3382\n",
      "3382\n",
      "3411\n",
      "3411\n",
      "3610\n",
      "3673\n",
      "3713\n",
      "3784\n",
      "4088\n",
      "4126\n",
      "4191\n",
      "4250\n",
      "4407\n",
      "4451\n",
      "4538\n",
      "4637\n",
      "4696\n",
      "4716\n",
      "4785\n",
      "4867\n",
      "4893\n",
      "4893\n",
      "4893\n",
      "4907\n",
      "4907\n",
      "5210\n",
      "5250\n",
      "5281\n",
      "5281\n",
      "5321\n",
      "5337\n",
      "5352\n",
      "5423\n",
      "5441\n",
      "5465\n",
      "5465\n",
      "5546\n",
      "5622\n",
      "5623\n"
     ],
     "output_type": "stream"
    }
   ],
   "source": [
    "API_KEY = 'F0F269DD995EA073497C8E71B10F61B7'\n",
    "request = f'http://api.steampowered.com/ISteamUser/GetFriendList/v0001/?key={API_KEY}&steamid=<steamid>relationship=all'\n",
    "users = len(user_ids)\n",
    "num_of_requests = 0\n",
    "while num_of_requests < 100:\n",
    "    user = np.random.randint(0, users)\n",
    "    response = requests.get(request.replace(\"<steamid>\", user_ids[user]))\n",
    "    if response.status_code == 200:\n",
    "        friends = response.json()\n",
    "        for friend in friends['friendslist']['friends']:\n",
    "            new_steam_id = friend['steamid']\n",
    "            if new_steam_id not in user_ids:\n",
    "                user_ids.append(new_steam_id)\n",
    "    num_of_requests += 1\n",
    "    users = len(user_ids)\n",
    "    print(users)\n"
   ],
   "metadata": {
    "collapsed": false,
    "pycharm": {
     "name": "#%%\n",
     "is_executing": false
    }
   }
  },
  {
   "cell_type": "code",
   "execution_count": 11,
   "outputs": [],
   "source": [
    "# users_series = pd.Series({\"user_id\": user_ids})\n",
    "users_df = pd.DataFrame({\"user_id\": user_ids})"
   ],
   "metadata": {
    "collapsed": false,
    "pycharm": {
     "name": "#%%\n",
     "is_executing": false
    }
   }
  },
  {
   "cell_type": "code",
   "execution_count": 14,
   "outputs": [],
   "source": [
    "users_df.to_csv('data\\\\steam_new_users.csv', index=False)\n",
    "\n",
    "\n",
    "\n"
   ],
   "metadata": {
    "collapsed": false,
    "pycharm": {
     "name": "#%%\n",
     "is_executing": false
    }
   }
  }
 ],
 "metadata": {
  "language_info": {
   "codemirror_mode": {
    "name": "ipython",
    "version": 2
   },
   "file_extension": ".py",
   "mimetype": "text/x-python",
   "name": "python",
   "nbconvert_exporter": "python",
   "pygments_lexer": "ipython2",
   "version": "2.7.6"
  },
  "kernelspec": {
   "name": "python3",
   "language": "python",
   "display_name": "Python 3"
  },
  "pycharm": {
   "stem_cell": {
    "cell_type": "raw",
    "source": [],
    "metadata": {
     "collapsed": false
    }
   }
  }
 },
 "nbformat": 4,
 "nbformat_minor": 0
}