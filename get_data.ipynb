{
 "cells": [
  {
   "cell_type": "code",
   "execution_count": 2,
   "metadata": {
    "collapsed": true,
    "pycharm": {
     "is_executing": false
    }
   },
   "outputs": [],
   "source": [
    "import os\n",
    "import pandas as pd\n",
    "import matplotlib.pyplot as plt\n",
    "import numpy as np\n",
    "import requests"
   ]
  },
  {
   "cell_type": "code",
   "execution_count": 80,
   "outputs": [],
   "source": [
    "user_df = pd.read_csv('data\\\\steam_new_users.csv')\n",
    "user_ids = user_df['user_id'].astype(str).values.tolist()"
   ],
   "metadata": {
    "collapsed": false,
    "pycharm": {
     "name": "#%%\n",
     "is_executing": false
    }
   }
  },
  {
   "cell_type": "code",
   "execution_count": 69,
   "outputs": [],
   "source": [
    "def if_have_games(user_id):\n",
    "    req = f'https://steamcommunity.com/profiles/{user_id}/games?tab=all&xml=1'\n",
    "    print(req)\n",
    "    num_tries = 3\n",
    "    while True:\n",
    "        resp = requests.get(req)\n",
    "        if response.status_code != 200:\n",
    "            raise ConnectionError(f\"Status code: {response.status_code}\")\n",
    "        if b'xml' in resp.content or num_tries <= 0:\n",
    "            break\n",
    "        num_tries -= 1\n",
    "    from xml.etree import ElementTree\n",
    "    xml_tree = ElementTree.fromstring(resp.content)\n",
    "    \n",
    "    for elem in xml_tree.iter('*'):\n",
    "        if elem.tag == \"game\":\n",
    "            return True\n",
    "    return False"
   ],
   "metadata": {
    "collapsed": false,
    "pycharm": {
     "name": "#%%\n",
     "is_executing": false
    }
   }
  },
  {
   "cell_type": "code",
   "execution_count": 81,
   "outputs": [
    {
     "name": "stdout",
     "text": [
      "https://steamcommunity.com/profiles/76561197996813804/games?tab=all&xml=1\n",
      "https://steamcommunity.com/profiles/76561197997290922/games?tab=all&xml=1\n",
      "https://steamcommunity.com/profiles/76561198004540621/games?tab=all&xml=1\n",
      "https://steamcommunity.com/profiles/76561198004614439/games?tab=all&xml=1\n",
      "https://steamcommunity.com/profiles/76561198007115209/games?tab=all&xml=1\n",
      "https://steamcommunity.com/profiles/76561198011442297/games?tab=all&xml=1\n",
      "https://steamcommunity.com/profiles/76561198012807651/games?tab=all&xml=1\n",
      "https://steamcommunity.com/profiles/76561198015905513/games?tab=all&xml=1\n",
      "https://steamcommunity.com/profiles/76561198016499598/games?tab=all&xml=1\n",
      "https://steamcommunity.com/profiles/76561198019242395/games?tab=all&xml=1\n",
      "https://steamcommunity.com/profiles/76561198020220367/games?tab=all&xml=1\n",
      "https://steamcommunity.com/profiles/76561198032959659/games?tab=all&xml=1\n",
      "https://steamcommunity.com/profiles/76561198033432875/games?tab=all&xml=1\n",
      "https://steamcommunity.com/profiles/76561198033497896/games?tab=all&xml=1\n",
      "https://steamcommunity.com/profiles/76561198033515165/games?tab=all&xml=1\n",
      "https://steamcommunity.com/profiles/76561198033778966/games?tab=all&xml=1\n",
      "https://steamcommunity.com/profiles/76561198033873310/games?tab=all&xml=1\n",
      "https://steamcommunity.com/profiles/76561198038157514/games?tab=all&xml=1\n",
      "https://steamcommunity.com/profiles/76561198041582282/games?tab=all&xml=1\n",
      "https://steamcommunity.com/profiles/76561198050648994/games?tab=all&xml=1\n",
      "https://steamcommunity.com/profiles/76561198052004352/games?tab=all&xml=1\n",
      "https://steamcommunity.com/profiles/76561198052311355/games?tab=all&xml=1\n",
      "https://steamcommunity.com/profiles/76561198052570054/games?tab=all&xml=1\n",
      "https://steamcommunity.com/profiles/76561198052797413/games?tab=all&xml=1\n",
      "https://steamcommunity.com/profiles/76561198071676993/games?tab=all&xml=1\n",
      "https://steamcommunity.com/profiles/76561198073294805/games?tab=all&xml=1\n",
      "https://steamcommunity.com/profiles/76561198081986863/games?tab=all&xml=1\n",
      "https://steamcommunity.com/profiles/76561198090610717/games?tab=all&xml=1\n",
      "https://steamcommunity.com/profiles/76561198090993410/games?tab=all&xml=1\n",
      "https://steamcommunity.com/profiles/76561198095447658/games?tab=all&xml=1\n",
      "https://steamcommunity.com/profiles/76561198104236888/games?tab=all&xml=1\n",
      "https://steamcommunity.com/profiles/76561198124375527/games?tab=all&xml=1\n",
      "https://steamcommunity.com/profiles/76561198133689597/games?tab=all&xml=1\n",
      "https://steamcommunity.com/profiles/76561198150660541/games?tab=all&xml=1\n",
      "https://steamcommunity.com/profiles/76561198151643209/games?tab=all&xml=1\n",
      "https://steamcommunity.com/profiles/76561198152624525/games?tab=all&xml=1\n",
      "https://steamcommunity.com/profiles/76561198161785165/games?tab=all&xml=1\n",
      "https://steamcommunity.com/profiles/76561198162485811/games?tab=all&xml=1\n",
      "https://steamcommunity.com/profiles/76561198168998810/games?tab=all&xml=1\n",
      "https://steamcommunity.com/profiles/76561198181943122/games?tab=all&xml=1\n",
      "https://steamcommunity.com/profiles/76561198186311705/games?tab=all&xml=1\n",
      "https://steamcommunity.com/profiles/76561198194049071/games?tab=all&xml=1\n",
      "https://steamcommunity.com/profiles/76561198204497007/games?tab=all&xml=1\n",
      "https://steamcommunity.com/profiles/76561198225046740/games?tab=all&xml=1\n",
      "https://steamcommunity.com/profiles/76561198253164000/games?tab=all&xml=1\n",
      "https://steamcommunity.com/profiles/76561198282585448/games?tab=all&xml=1\n",
      "https://steamcommunity.com/profiles/76561198308087210/games?tab=all&xml=1\n",
      "https://steamcommunity.com/profiles/76561198319013508/games?tab=all&xml=1\n",
      "https://steamcommunity.com/profiles/76561198798926645/games?tab=all&xml=1\n",
      "https://steamcommunity.com/profiles/76561198874132172/games?tab=all&xml=1\n",
      "5688\n",
      "https://steamcommunity.com/profiles/76561197966885478/games?tab=all&xml=1\n",
      "https://steamcommunity.com/profiles/76561197968999051/games?tab=all&xml=1\n",
      "https://steamcommunity.com/profiles/76561197977045506/games?tab=all&xml=1\n",
      "https://steamcommunity.com/profiles/76561197989187180/games?tab=all&xml=1\n",
      "https://steamcommunity.com/profiles/76561198002624004/games?tab=all&xml=1\n",
      "https://steamcommunity.com/profiles/76561198003170230/games?tab=all&xml=1\n",
      "https://steamcommunity.com/profiles/76561198005579156/games?tab=all&xml=1\n",
      "https://steamcommunity.com/profiles/76561198009066077/games?tab=all&xml=1\n",
      "https://steamcommunity.com/profiles/76561198012115141/games?tab=all&xml=1\n",
      "https://steamcommunity.com/profiles/76561198013650257/games?tab=all&xml=1\n",
      "https://steamcommunity.com/profiles/76561198014918115/games?tab=all&xml=1\n",
      "https://steamcommunity.com/profiles/76561198018630030/games?tab=all&xml=1\n",
      "https://steamcommunity.com/profiles/76561198021136190/games?tab=all&xml=1\n",
      "https://steamcommunity.com/profiles/76561198022315950/games?tab=all&xml=1\n",
      "https://steamcommunity.com/profiles/76561198023664626/games?tab=all&xml=1\n",
      "https://steamcommunity.com/profiles/76561198024108105/games?tab=all&xml=1\n",
      "https://steamcommunity.com/profiles/76561198027230668/games?tab=all&xml=1\n",
      "https://steamcommunity.com/profiles/76561198032382027/games?tab=all&xml=1\n",
      "https://steamcommunity.com/profiles/76561198033502094/games?tab=all&xml=1\n",
      "https://steamcommunity.com/profiles/76561198041844615/games?tab=all&xml=1\n",
      "https://steamcommunity.com/profiles/76561198042781803/games?tab=all&xml=1\n",
      "https://steamcommunity.com/profiles/76561198044740419/games?tab=all&xml=1\n",
      "https://steamcommunity.com/profiles/76561198049191008/games?tab=all&xml=1\n",
      "https://steamcommunity.com/profiles/76561198049538259/games?tab=all&xml=1\n",
      "https://steamcommunity.com/profiles/76561198053365598/games?tab=all&xml=1\n",
      "https://steamcommunity.com/profiles/76561198057997688/games?tab=all&xml=1\n",
      "https://steamcommunity.com/profiles/76561198060471761/games?tab=all&xml=1\n",
      "https://steamcommunity.com/profiles/76561198060920213/games?tab=all&xml=1\n",
      "https://steamcommunity.com/profiles/76561198061475398/games?tab=all&xml=1\n",
      "https://steamcommunity.com/profiles/76561198062946535/games?tab=all&xml=1\n",
      "https://steamcommunity.com/profiles/76561198063824707/games?tab=all&xml=1\n",
      "https://steamcommunity.com/profiles/76561198065399895/games?tab=all&xml=1\n",
      "https://steamcommunity.com/profiles/76561198068666640/games?tab=all&xml=1\n",
      "https://steamcommunity.com/profiles/76561198068759057/games?tab=all&xml=1\n",
      "https://steamcommunity.com/profiles/76561198070865606/games?tab=all&xml=1\n",
      "https://steamcommunity.com/profiles/76561198072945903/games?tab=all&xml=1\n",
      "https://steamcommunity.com/profiles/76561198076400987/games?tab=all&xml=1\n",
      "https://steamcommunity.com/profiles/76561198076671218/games?tab=all&xml=1\n",
      "https://steamcommunity.com/profiles/76561198077794183/games?tab=all&xml=1\n",
      "https://steamcommunity.com/profiles/76561198078517671/games?tab=all&xml=1\n",
      "https://steamcommunity.com/profiles/76561198081978187/games?tab=all&xml=1\n",
      "https://steamcommunity.com/profiles/76561198082071531/games?tab=all&xml=1\n",
      "https://steamcommunity.com/profiles/76561198082933723/games?tab=all&xml=1\n",
      "https://steamcommunity.com/profiles/76561198085525389/games?tab=all&xml=1\n",
      "https://steamcommunity.com/profiles/76561198090822383/games?tab=all&xml=1\n",
      "https://steamcommunity.com/profiles/76561198091271409/games?tab=all&xml=1\n",
      "https://steamcommunity.com/profiles/76561198091456570/games?tab=all&xml=1\n",
      "https://steamcommunity.com/profiles/76561198093935920/games?tab=all&xml=1\n",
      "https://steamcommunity.com/profiles/76561198094997722/games?tab=all&xml=1\n",
      "https://steamcommunity.com/profiles/76561198103159282/games?tab=all&xml=1\n",
      "https://steamcommunity.com/profiles/76561198108852706/games?tab=all&xml=1\n",
      "https://steamcommunity.com/profiles/76561198109590974/games?tab=all&xml=1\n",
      "https://steamcommunity.com/profiles/76561198109622053/games?tab=all&xml=1\n",
      "https://steamcommunity.com/profiles/76561198111843730/games?tab=all&xml=1\n",
      "https://steamcommunity.com/profiles/76561198111937445/games?tab=all&xml=1\n",
      "https://steamcommunity.com/profiles/76561198113327224/games?tab=all&xml=1\n",
      "https://steamcommunity.com/profiles/76561198116747469/games?tab=all&xml=1\n",
      "https://steamcommunity.com/profiles/76561198116798061/games?tab=all&xml=1\n",
      "https://steamcommunity.com/profiles/76561198119562197/games?tab=all&xml=1\n",
      "https://steamcommunity.com/profiles/76561198120599596/games?tab=all&xml=1\n",
      "https://steamcommunity.com/profiles/76561198121013135/games?tab=all&xml=1\n",
      "https://steamcommunity.com/profiles/76561198125989082/games?tab=all&xml=1\n",
      "https://steamcommunity.com/profiles/76561198127811749/games?tab=all&xml=1\n",
      "https://steamcommunity.com/profiles/76561198133920401/games?tab=all&xml=1\n",
      "https://steamcommunity.com/profiles/76561198134046142/games?tab=all&xml=1\n",
      "https://steamcommunity.com/profiles/76561198139867629/games?tab=all&xml=1\n",
      "https://steamcommunity.com/profiles/76561198142350779/games?tab=all&xml=1\n",
      "https://steamcommunity.com/profiles/76561198143423958/games?tab=all&xml=1\n",
      "https://steamcommunity.com/profiles/76561198145383024/games?tab=all&xml=1\n",
      "https://steamcommunity.com/profiles/76561198146615000/games?tab=all&xml=1\n",
      "https://steamcommunity.com/profiles/76561198149977404/games?tab=all&xml=1\n",
      "https://steamcommunity.com/profiles/76561198150269710/games?tab=all&xml=1\n",
      "https://steamcommunity.com/profiles/76561198150548758/games?tab=all&xml=1\n",
      "https://steamcommunity.com/profiles/76561198152110549/games?tab=all&xml=1\n",
      "https://steamcommunity.com/profiles/76561198156290626/games?tab=all&xml=1\n",
      "https://steamcommunity.com/profiles/76561198156388770/games?tab=all&xml=1\n",
      "https://steamcommunity.com/profiles/76561198157111209/games?tab=all&xml=1\n",
      "https://steamcommunity.com/profiles/76561198157118394/games?tab=all&xml=1\n",
      "https://steamcommunity.com/profiles/76561198162380065/games?tab=all&xml=1\n",
      "https://steamcommunity.com/profiles/76561198164550810/games?tab=all&xml=1\n",
      "https://steamcommunity.com/profiles/76561198168036283/games?tab=all&xml=1\n",
      "https://steamcommunity.com/profiles/76561198172534377/games?tab=all&xml=1\n",
      "https://steamcommunity.com/profiles/76561198178658803/games?tab=all&xml=1\n",
      "https://steamcommunity.com/profiles/76561198179555689/games?tab=all&xml=1\n",
      "https://steamcommunity.com/profiles/76561198195108697/games?tab=all&xml=1\n",
      "https://steamcommunity.com/profiles/76561198197333198/games?tab=all&xml=1\n",
      "https://steamcommunity.com/profiles/76561198199797838/games?tab=all&xml=1\n",
      "https://steamcommunity.com/profiles/76561198203977533/games?tab=all&xml=1\n",
      "https://steamcommunity.com/profiles/76561198213758648/games?tab=all&xml=1\n",
      "https://steamcommunity.com/profiles/76561198218468275/games?tab=all&xml=1\n",
      "https://steamcommunity.com/profiles/76561198218497692/games?tab=all&xml=1\n",
      "https://steamcommunity.com/profiles/76561198219100969/games?tab=all&xml=1\n",
      "https://steamcommunity.com/profiles/76561198220945104/games?tab=all&xml=1\n",
      "https://steamcommunity.com/profiles/76561198243162062/games?tab=all&xml=1\n",
      "https://steamcommunity.com/profiles/76561198247479702/games?tab=all&xml=1\n",
      "https://steamcommunity.com/profiles/76561198248055770/games?tab=all&xml=1\n",
      "https://steamcommunity.com/profiles/76561198251517502/games?tab=all&xml=1\n",
      "https://steamcommunity.com/profiles/76561198255926447/games?tab=all&xml=1\n",
      "https://steamcommunity.com/profiles/76561198259141729/games?tab=all&xml=1\n",
      "https://steamcommunity.com/profiles/76561198260264081/games?tab=all&xml=1\n",
      "https://steamcommunity.com/profiles/76561198263195564/games?tab=all&xml=1\n",
      "https://steamcommunity.com/profiles/76561198263554846/games?tab=all&xml=1\n",
      "https://steamcommunity.com/profiles/76561198265117539/games?tab=all&xml=1\n",
      "https://steamcommunity.com/profiles/76561198267208042/games?tab=all&xml=1\n",
      "https://steamcommunity.com/profiles/76561198268935756/games?tab=all&xml=1\n",
      "https://steamcommunity.com/profiles/76561198271207402/games?tab=all&xml=1\n",
      "https://steamcommunity.com/profiles/76561198271232304/games?tab=all&xml=1\n",
      "https://steamcommunity.com/profiles/76561198271855750/games?tab=all&xml=1\n",
      "https://steamcommunity.com/profiles/76561198272089347/games?tab=all&xml=1\n",
      "https://steamcommunity.com/profiles/76561198272171723/games?tab=all&xml=1\n",
      "https://steamcommunity.com/profiles/76561198273884150/games?tab=all&xml=1\n",
      "https://steamcommunity.com/profiles/76561198274625962/games?tab=all&xml=1\n",
      "https://steamcommunity.com/profiles/76561198276887314/games?tab=all&xml=1\n",
      "https://steamcommunity.com/profiles/76561198280871294/games?tab=all&xml=1\n",
      "https://steamcommunity.com/profiles/76561198283513834/games?tab=all&xml=1\n",
      "https://steamcommunity.com/profiles/76561198283641381/games?tab=all&xml=1\n",
      "https://steamcommunity.com/profiles/76561198289020769/games?tab=all&xml=1\n",
      "https://steamcommunity.com/profiles/76561198289771708/games?tab=all&xml=1\n",
      "https://steamcommunity.com/profiles/76561198294947446/games?tab=all&xml=1\n",
      "https://steamcommunity.com/profiles/76561198307725854/games?tab=all&xml=1\n",
      "https://steamcommunity.com/profiles/76561198311206853/games?tab=all&xml=1\n",
      "https://steamcommunity.com/profiles/76561198322902833/games?tab=all&xml=1\n",
      "https://steamcommunity.com/profiles/76561198324499727/games?tab=all&xml=1\n",
      "https://steamcommunity.com/profiles/76561198326664427/games?tab=all&xml=1\n",
      "https://steamcommunity.com/profiles/76561198333939696/games?tab=all&xml=1\n",
      "https://steamcommunity.com/profiles/76561198336525385/games?tab=all&xml=1\n",
      "https://steamcommunity.com/profiles/76561198338982105/games?tab=all&xml=1\n",
      "https://steamcommunity.com/profiles/76561198339179463/games?tab=all&xml=1\n",
      "https://steamcommunity.com/profiles/76561198340264720/games?tab=all&xml=1\n",
      "https://steamcommunity.com/profiles/76561198345478684/games?tab=all&xml=1\n",
      "https://steamcommunity.com/profiles/76561198346821715/games?tab=all&xml=1\n",
      "https://steamcommunity.com/profiles/76561198355416915/games?tab=all&xml=1\n",
      "https://steamcommunity.com/profiles/76561198356418049/games?tab=all&xml=1\n",
      "https://steamcommunity.com/profiles/76561198377532905/games?tab=all&xml=1\n",
      "https://steamcommunity.com/profiles/76561198391189225/games?tab=all&xml=1\n",
      "https://steamcommunity.com/profiles/76561198397146107/games?tab=all&xml=1\n",
      "https://steamcommunity.com/profiles/76561198408367826/games?tab=all&xml=1\n",
      "https://steamcommunity.com/profiles/76561198411021820/games?tab=all&xml=1\n",
      "https://steamcommunity.com/profiles/76561198441716371/games?tab=all&xml=1\n",
      "https://steamcommunity.com/profiles/76561198450259933/games?tab=all&xml=1\n",
      "https://steamcommunity.com/profiles/76561198802713146/games?tab=all&xml=1\n",
      "https://steamcommunity.com/profiles/76561198829640083/games?tab=all&xml=1\n",
      "https://steamcommunity.com/profiles/76561198830199705/games?tab=all&xml=1\n",
      "https://steamcommunity.com/profiles/76561198871584528/games?tab=all&xml=1\n",
      "https://steamcommunity.com/profiles/76561198875780982/games?tab=all&xml=1\n",
      "https://steamcommunity.com/profiles/76561198979069042/games?tab=all&xml=1\n",
      "5688\n",
      "https://steamcommunity.com/profiles/76561197967626280/games?tab=all&xml=1\n",
      "https://steamcommunity.com/profiles/76561197974935107/games?tab=all&xml=1\n",
      "https://steamcommunity.com/profiles/76561197982928709/games?tab=all&xml=1\n",
      "https://steamcommunity.com/profiles/76561198007864729/games?tab=all&xml=1\n",
      "https://steamcommunity.com/profiles/76561198041813517/games?tab=all&xml=1\n",
      "https://steamcommunity.com/profiles/76561198041836764/games?tab=all&xml=1\n",
      "https://steamcommunity.com/profiles/76561198048360012/games?tab=all&xml=1\n",
      "https://steamcommunity.com/profiles/76561198051948864/games?tab=all&xml=1\n",
      "https://steamcommunity.com/profiles/76561198059312753/games?tab=all&xml=1\n",
      "https://steamcommunity.com/profiles/76561198078224899/games?tab=all&xml=1\n",
      "https://steamcommunity.com/profiles/76561198079491480/games?tab=all&xml=1\n"
     ],
     "output_type": "stream"
    },
    {
     "name": "stderr",
     "text": [
      "From cffi callback <function _verify_callback at 0x0000026F6E88A798>:\nTraceback (most recent call last):\n  File \"C:\\Users\\patrykj\\AppData\\Local\\Continuum\\anaconda3\\envs\\test\\lib\\site-packages\\OpenSSL\\SSL.py\", line 306, in wrapper\n    @wraps(callback)\nKeyboardInterrupt\n"
     ],
     "output_type": "stream"
    },
    {
     "traceback": [
      "\u001b[1;31m---------------------------------------------------------------------------\u001b[0m",
      "\u001b[1;31mError\u001b[0m                                     Traceback (most recent call last)",
      "\u001b[1;32m~\\AppData\\Local\\Continuum\\anaconda3\\envs\\test\\lib\\site-packages\\urllib3\\contrib\\pyopenssl.py\u001b[0m in \u001b[0;36mwrap_socket\u001b[1;34m(self, sock, server_side, do_handshake_on_connect, suppress_ragged_eofs, server_hostname)\u001b[0m\n\u001b[0;32m    455\u001b[0m             \u001b[1;32mtry\u001b[0m\u001b[1;33m:\u001b[0m\u001b[1;33m\u001b[0m\u001b[1;33m\u001b[0m\u001b[0m\n\u001b[1;32m--> 456\u001b[1;33m                 \u001b[0mcnx\u001b[0m\u001b[1;33m.\u001b[0m\u001b[0mdo_handshake\u001b[0m\u001b[1;33m(\u001b[0m\u001b[1;33m)\u001b[0m\u001b[1;33m\u001b[0m\u001b[1;33m\u001b[0m\u001b[0m\n\u001b[0m\u001b[0;32m    457\u001b[0m             \u001b[1;32mexcept\u001b[0m \u001b[0mOpenSSL\u001b[0m\u001b[1;33m.\u001b[0m\u001b[0mSSL\u001b[0m\u001b[1;33m.\u001b[0m\u001b[0mWantReadError\u001b[0m\u001b[1;33m:\u001b[0m\u001b[1;33m\u001b[0m\u001b[1;33m\u001b[0m\u001b[0m\n",
      "\u001b[1;32m~\\AppData\\Local\\Continuum\\anaconda3\\envs\\test\\lib\\site-packages\\OpenSSL\\SSL.py\u001b[0m in \u001b[0;36mdo_handshake\u001b[1;34m(self)\u001b[0m\n\u001b[0;32m   1914\u001b[0m         \u001b[0mresult\u001b[0m \u001b[1;33m=\u001b[0m \u001b[0m_lib\u001b[0m\u001b[1;33m.\u001b[0m\u001b[0mSSL_do_handshake\u001b[0m\u001b[1;33m(\u001b[0m\u001b[0mself\u001b[0m\u001b[1;33m.\u001b[0m\u001b[0m_ssl\u001b[0m\u001b[1;33m)\u001b[0m\u001b[1;33m\u001b[0m\u001b[1;33m\u001b[0m\u001b[0m\n\u001b[1;32m-> 1915\u001b[1;33m         \u001b[0mself\u001b[0m\u001b[1;33m.\u001b[0m\u001b[0m_raise_ssl_error\u001b[0m\u001b[1;33m(\u001b[0m\u001b[0mself\u001b[0m\u001b[1;33m.\u001b[0m\u001b[0m_ssl\u001b[0m\u001b[1;33m,\u001b[0m \u001b[0mresult\u001b[0m\u001b[1;33m)\u001b[0m\u001b[1;33m\u001b[0m\u001b[1;33m\u001b[0m\u001b[0m\n\u001b[0m\u001b[0;32m   1916\u001b[0m \u001b[1;33m\u001b[0m\u001b[0m\n",
      "\u001b[1;32m~\\AppData\\Local\\Continuum\\anaconda3\\envs\\test\\lib\\site-packages\\OpenSSL\\SSL.py\u001b[0m in \u001b[0;36m_raise_ssl_error\u001b[1;34m(self, ssl, result)\u001b[0m\n\u001b[0;32m   1646\u001b[0m         \u001b[1;32melse\u001b[0m\u001b[1;33m:\u001b[0m\u001b[1;33m\u001b[0m\u001b[1;33m\u001b[0m\u001b[0m\n\u001b[1;32m-> 1647\u001b[1;33m             \u001b[0m_raise_current_error\u001b[0m\u001b[1;33m(\u001b[0m\u001b[1;33m)\u001b[0m\u001b[1;33m\u001b[0m\u001b[1;33m\u001b[0m\u001b[0m\n\u001b[0m\u001b[0;32m   1648\u001b[0m \u001b[1;33m\u001b[0m\u001b[0m\n",
      "\u001b[1;32m~\\AppData\\Local\\Continuum\\anaconda3\\envs\\test\\lib\\site-packages\\OpenSSL\\_util.py\u001b[0m in \u001b[0;36mexception_from_error_queue\u001b[1;34m(exception_type)\u001b[0m\n\u001b[0;32m     53\u001b[0m \u001b[1;33m\u001b[0m\u001b[0m\n\u001b[1;32m---> 54\u001b[1;33m     \u001b[1;32mraise\u001b[0m \u001b[0mexception_type\u001b[0m\u001b[1;33m(\u001b[0m\u001b[0merrors\u001b[0m\u001b[1;33m)\u001b[0m\u001b[1;33m\u001b[0m\u001b[1;33m\u001b[0m\u001b[0m\n\u001b[0m\u001b[0;32m     55\u001b[0m \u001b[1;33m\u001b[0m\u001b[0m\n",
      "\u001b[1;31mError\u001b[0m: [('SSL routines', 'tls_process_server_certificate', 'certificate verify failed')]",
      "\nDuring handling of the above exception, another exception occurred:\n",
      "\u001b[1;31mSSLError\u001b[0m                                  Traceback (most recent call last)",
      "\u001b[1;32m~\\AppData\\Local\\Continuum\\anaconda3\\envs\\test\\lib\\site-packages\\urllib3\\connectionpool.py\u001b[0m in \u001b[0;36murlopen\u001b[1;34m(self, method, url, body, headers, retries, redirect, assert_same_host, timeout, pool_timeout, release_conn, chunked, body_pos, **response_kw)\u001b[0m\n\u001b[0;32m    599\u001b[0m                                                   \u001b[0mbody\u001b[0m\u001b[1;33m=\u001b[0m\u001b[0mbody\u001b[0m\u001b[1;33m,\u001b[0m \u001b[0mheaders\u001b[0m\u001b[1;33m=\u001b[0m\u001b[0mheaders\u001b[0m\u001b[1;33m,\u001b[0m\u001b[1;33m\u001b[0m\u001b[1;33m\u001b[0m\u001b[0m\n\u001b[1;32m--> 600\u001b[1;33m                                                   chunked=chunked)\n\u001b[0m\u001b[0;32m    601\u001b[0m \u001b[1;33m\u001b[0m\u001b[0m\n",
      "\u001b[1;32m~\\AppData\\Local\\Continuum\\anaconda3\\envs\\test\\lib\\site-packages\\urllib3\\connectionpool.py\u001b[0m in \u001b[0;36m_make_request\u001b[1;34m(self, conn, method, url, timeout, chunked, **httplib_request_kw)\u001b[0m\n\u001b[0;32m    342\u001b[0m         \u001b[1;32mtry\u001b[0m\u001b[1;33m:\u001b[0m\u001b[1;33m\u001b[0m\u001b[1;33m\u001b[0m\u001b[0m\n\u001b[1;32m--> 343\u001b[1;33m             \u001b[0mself\u001b[0m\u001b[1;33m.\u001b[0m\u001b[0m_validate_conn\u001b[0m\u001b[1;33m(\u001b[0m\u001b[0mconn\u001b[0m\u001b[1;33m)\u001b[0m\u001b[1;33m\u001b[0m\u001b[1;33m\u001b[0m\u001b[0m\n\u001b[0m\u001b[0;32m    344\u001b[0m         \u001b[1;32mexcept\u001b[0m \u001b[1;33m(\u001b[0m\u001b[0mSocketTimeout\u001b[0m\u001b[1;33m,\u001b[0m \u001b[0mBaseSSLError\u001b[0m\u001b[1;33m)\u001b[0m \u001b[1;32mas\u001b[0m \u001b[0me\u001b[0m\u001b[1;33m:\u001b[0m\u001b[1;33m\u001b[0m\u001b[1;33m\u001b[0m\u001b[0m\n",
      "\u001b[1;32m~\\AppData\\Local\\Continuum\\anaconda3\\envs\\test\\lib\\site-packages\\urllib3\\connectionpool.py\u001b[0m in \u001b[0;36m_validate_conn\u001b[1;34m(self, conn)\u001b[0m\n\u001b[0;32m    838\u001b[0m         \u001b[1;32mif\u001b[0m \u001b[1;32mnot\u001b[0m \u001b[0mgetattr\u001b[0m\u001b[1;33m(\u001b[0m\u001b[0mconn\u001b[0m\u001b[1;33m,\u001b[0m \u001b[1;34m'sock'\u001b[0m\u001b[1;33m,\u001b[0m \u001b[1;32mNone\u001b[0m\u001b[1;33m)\u001b[0m\u001b[1;33m:\u001b[0m  \u001b[1;31m# AppEngine might not have  `.sock`\u001b[0m\u001b[1;33m\u001b[0m\u001b[1;33m\u001b[0m\u001b[0m\n\u001b[1;32m--> 839\u001b[1;33m             \u001b[0mconn\u001b[0m\u001b[1;33m.\u001b[0m\u001b[0mconnect\u001b[0m\u001b[1;33m(\u001b[0m\u001b[1;33m)\u001b[0m\u001b[1;33m\u001b[0m\u001b[1;33m\u001b[0m\u001b[0m\n\u001b[0m\u001b[0;32m    840\u001b[0m \u001b[1;33m\u001b[0m\u001b[0m\n",
      "\u001b[1;32m~\\AppData\\Local\\Continuum\\anaconda3\\envs\\test\\lib\\site-packages\\urllib3\\connection.py\u001b[0m in \u001b[0;36mconnect\u001b[1;34m(self)\u001b[0m\n\u001b[0;32m    343\u001b[0m             \u001b[0mserver_hostname\u001b[0m\u001b[1;33m=\u001b[0m\u001b[0mserver_hostname\u001b[0m\u001b[1;33m,\u001b[0m\u001b[1;33m\u001b[0m\u001b[1;33m\u001b[0m\u001b[0m\n\u001b[1;32m--> 344\u001b[1;33m             ssl_context=context)\n\u001b[0m\u001b[0;32m    345\u001b[0m \u001b[1;33m\u001b[0m\u001b[0m\n",
      "\u001b[1;32m~\\AppData\\Local\\Continuum\\anaconda3\\envs\\test\\lib\\site-packages\\urllib3\\util\\ssl_.py\u001b[0m in \u001b[0;36mssl_wrap_socket\u001b[1;34m(sock, keyfile, certfile, cert_reqs, ca_certs, server_hostname, ssl_version, ciphers, ssl_context, ca_cert_dir)\u001b[0m\n\u001b[0;32m    346\u001b[0m         \u001b[1;32mif\u001b[0m \u001b[0mHAS_SNI\u001b[0m \u001b[1;32mand\u001b[0m \u001b[0mserver_hostname\u001b[0m \u001b[1;32mis\u001b[0m \u001b[1;32mnot\u001b[0m \u001b[1;32mNone\u001b[0m\u001b[1;33m:\u001b[0m\u001b[1;33m\u001b[0m\u001b[1;33m\u001b[0m\u001b[0m\n\u001b[1;32m--> 347\u001b[1;33m             \u001b[1;32mreturn\u001b[0m \u001b[0mcontext\u001b[0m\u001b[1;33m.\u001b[0m\u001b[0mwrap_socket\u001b[0m\u001b[1;33m(\u001b[0m\u001b[0msock\u001b[0m\u001b[1;33m,\u001b[0m \u001b[0mserver_hostname\u001b[0m\u001b[1;33m=\u001b[0m\u001b[0mserver_hostname\u001b[0m\u001b[1;33m)\u001b[0m\u001b[1;33m\u001b[0m\u001b[1;33m\u001b[0m\u001b[0m\n\u001b[0m\u001b[0;32m    348\u001b[0m \u001b[1;33m\u001b[0m\u001b[0m\n",
      "\u001b[1;32m~\\AppData\\Local\\Continuum\\anaconda3\\envs\\test\\lib\\site-packages\\urllib3\\contrib\\pyopenssl.py\u001b[0m in \u001b[0;36mwrap_socket\u001b[1;34m(self, sock, server_side, do_handshake_on_connect, suppress_ragged_eofs, server_hostname)\u001b[0m\n\u001b[0;32m    461\u001b[0m             \u001b[1;32mexcept\u001b[0m \u001b[0mOpenSSL\u001b[0m\u001b[1;33m.\u001b[0m\u001b[0mSSL\u001b[0m\u001b[1;33m.\u001b[0m\u001b[0mError\u001b[0m \u001b[1;32mas\u001b[0m \u001b[0me\u001b[0m\u001b[1;33m:\u001b[0m\u001b[1;33m\u001b[0m\u001b[1;33m\u001b[0m\u001b[0m\n\u001b[1;32m--> 462\u001b[1;33m                 \u001b[1;32mraise\u001b[0m \u001b[0mssl\u001b[0m\u001b[1;33m.\u001b[0m\u001b[0mSSLError\u001b[0m\u001b[1;33m(\u001b[0m\u001b[1;34m'bad handshake: %r'\u001b[0m \u001b[1;33m%\u001b[0m \u001b[0me\u001b[0m\u001b[1;33m)\u001b[0m\u001b[1;33m\u001b[0m\u001b[1;33m\u001b[0m\u001b[0m\n\u001b[0m\u001b[0;32m    463\u001b[0m             \u001b[1;32mbreak\u001b[0m\u001b[1;33m\u001b[0m\u001b[1;33m\u001b[0m\u001b[0m\n",
      "\u001b[1;31mSSLError\u001b[0m: (\"bad handshake: Error([('SSL routines', 'tls_process_server_certificate', 'certificate verify failed')])\",)",
      "\nDuring handling of the above exception, another exception occurred:\n",
      "\u001b[1;31mMaxRetryError\u001b[0m                             Traceback (most recent call last)",
      "\u001b[1;32m~\\AppData\\Local\\Continuum\\anaconda3\\envs\\test\\lib\\site-packages\\requests\\adapters.py\u001b[0m in \u001b[0;36msend\u001b[1;34m(self, request, stream, timeout, verify, cert, proxies)\u001b[0m\n\u001b[0;32m    448\u001b[0m                     \u001b[0mretries\u001b[0m\u001b[1;33m=\u001b[0m\u001b[0mself\u001b[0m\u001b[1;33m.\u001b[0m\u001b[0mmax_retries\u001b[0m\u001b[1;33m,\u001b[0m\u001b[1;33m\u001b[0m\u001b[1;33m\u001b[0m\u001b[0m\n\u001b[1;32m--> 449\u001b[1;33m                     \u001b[0mtimeout\u001b[0m\u001b[1;33m=\u001b[0m\u001b[0mtimeout\u001b[0m\u001b[1;33m\u001b[0m\u001b[1;33m\u001b[0m\u001b[0m\n\u001b[0m\u001b[0;32m    450\u001b[0m                 )\n",
      "\u001b[1;32m~\\AppData\\Local\\Continuum\\anaconda3\\envs\\test\\lib\\site-packages\\urllib3\\connectionpool.py\u001b[0m in \u001b[0;36murlopen\u001b[1;34m(self, method, url, body, headers, retries, redirect, assert_same_host, timeout, pool_timeout, release_conn, chunked, body_pos, **response_kw)\u001b[0m\n\u001b[0;32m    637\u001b[0m             retries = retries.increment(method, url, error=e, _pool=self,\n\u001b[1;32m--> 638\u001b[1;33m                                         _stacktrace=sys.exc_info()[2])\n\u001b[0m\u001b[0;32m    639\u001b[0m             \u001b[0mretries\u001b[0m\u001b[1;33m.\u001b[0m\u001b[0msleep\u001b[0m\u001b[1;33m(\u001b[0m\u001b[1;33m)\u001b[0m\u001b[1;33m\u001b[0m\u001b[1;33m\u001b[0m\u001b[0m\n",
      "\u001b[1;32m~\\AppData\\Local\\Continuum\\anaconda3\\envs\\test\\lib\\site-packages\\urllib3\\util\\retry.py\u001b[0m in \u001b[0;36mincrement\u001b[1;34m(self, method, url, response, error, _pool, _stacktrace)\u001b[0m\n\u001b[0;32m    398\u001b[0m         \u001b[1;32mif\u001b[0m \u001b[0mnew_retry\u001b[0m\u001b[1;33m.\u001b[0m\u001b[0mis_exhausted\u001b[0m\u001b[1;33m(\u001b[0m\u001b[1;33m)\u001b[0m\u001b[1;33m:\u001b[0m\u001b[1;33m\u001b[0m\u001b[1;33m\u001b[0m\u001b[0m\n\u001b[1;32m--> 399\u001b[1;33m             \u001b[1;32mraise\u001b[0m \u001b[0mMaxRetryError\u001b[0m\u001b[1;33m(\u001b[0m\u001b[0m_pool\u001b[0m\u001b[1;33m,\u001b[0m \u001b[0murl\u001b[0m\u001b[1;33m,\u001b[0m \u001b[0merror\u001b[0m \u001b[1;32mor\u001b[0m \u001b[0mResponseError\u001b[0m\u001b[1;33m(\u001b[0m\u001b[0mcause\u001b[0m\u001b[1;33m)\u001b[0m\u001b[1;33m)\u001b[0m\u001b[1;33m\u001b[0m\u001b[1;33m\u001b[0m\u001b[0m\n\u001b[0m\u001b[0;32m    400\u001b[0m \u001b[1;33m\u001b[0m\u001b[0m\n",
      "\u001b[1;31mMaxRetryError\u001b[0m: HTTPSConnectionPool(host='steamcommunity.com', port=443): Max retries exceeded with url: /profiles/76561198079491480/games?tab=all&xml=1 (Caused by SSLError(SSLError(\"bad handshake: Error([('SSL routines', 'tls_process_server_certificate', 'certificate verify failed')])\")))",
      "\nDuring handling of the above exception, another exception occurred:\n",
      "\u001b[1;31mSSLError\u001b[0m                                  Traceback (most recent call last)",
      "\u001b[1;32m<ipython-input-81-1de21c739125>\u001b[0m in \u001b[0;36m<module>\u001b[1;34m\u001b[0m\n\u001b[0;32m     13\u001b[0m             \u001b[1;32mfor\u001b[0m \u001b[0mfriend\u001b[0m \u001b[1;32min\u001b[0m \u001b[0mfriends\u001b[0m\u001b[1;33m[\u001b[0m\u001b[1;34m'friendslist'\u001b[0m\u001b[1;33m]\u001b[0m\u001b[1;33m[\u001b[0m\u001b[1;34m'friends'\u001b[0m\u001b[1;33m]\u001b[0m\u001b[1;33m:\u001b[0m\u001b[1;33m\u001b[0m\u001b[1;33m\u001b[0m\u001b[0m\n\u001b[0;32m     14\u001b[0m                 \u001b[0mnew_steam_id\u001b[0m \u001b[1;33m=\u001b[0m \u001b[0mfriend\u001b[0m\u001b[1;33m[\u001b[0m\u001b[1;34m'steamid'\u001b[0m\u001b[1;33m]\u001b[0m\u001b[1;33m\u001b[0m\u001b[1;33m\u001b[0m\u001b[0m\n\u001b[1;32m---> 15\u001b[1;33m                 \u001b[1;32mif\u001b[0m \u001b[0mnew_steam_id\u001b[0m \u001b[1;32mnot\u001b[0m \u001b[1;32min\u001b[0m \u001b[0muser_ids\u001b[0m \u001b[1;32mand\u001b[0m \u001b[0mif_have_games\u001b[0m\u001b[1;33m(\u001b[0m\u001b[0mnew_steam_id\u001b[0m\u001b[1;33m)\u001b[0m\u001b[1;33m:\u001b[0m\u001b[1;33m\u001b[0m\u001b[1;33m\u001b[0m\u001b[0m\n\u001b[0m\u001b[0;32m     16\u001b[0m                     \u001b[0muser_ids\u001b[0m\u001b[1;33m.\u001b[0m\u001b[0mappend\u001b[0m\u001b[1;33m(\u001b[0m\u001b[0mnew_steam_id\u001b[0m\u001b[1;33m)\u001b[0m\u001b[1;33m\u001b[0m\u001b[1;33m\u001b[0m\u001b[0m\n\u001b[0;32m     17\u001b[0m         \u001b[0mnum_of_requests\u001b[0m \u001b[1;33m+=\u001b[0m \u001b[1;36m1\u001b[0m\u001b[1;33m\u001b[0m\u001b[1;33m\u001b[0m\u001b[0m\n",
      "\u001b[1;32m<ipython-input-69-61fa45acf77b>\u001b[0m in \u001b[0;36mif_have_games\u001b[1;34m(user_id)\u001b[0m\n\u001b[0;32m      5\u001b[0m     \u001b[0mnum_tries\u001b[0m \u001b[1;33m=\u001b[0m \u001b[1;36m3\u001b[0m\u001b[1;33m\u001b[0m\u001b[1;33m\u001b[0m\u001b[0m\n\u001b[0;32m      6\u001b[0m     \u001b[1;32mwhile\u001b[0m \u001b[1;32mTrue\u001b[0m\u001b[1;33m:\u001b[0m\u001b[1;33m\u001b[0m\u001b[1;33m\u001b[0m\u001b[0m\n\u001b[1;32m----> 7\u001b[1;33m         \u001b[0mresp\u001b[0m \u001b[1;33m=\u001b[0m \u001b[0mrequests\u001b[0m\u001b[1;33m.\u001b[0m\u001b[0mget\u001b[0m\u001b[1;33m(\u001b[0m\u001b[0mreq\u001b[0m\u001b[1;33m)\u001b[0m\u001b[1;33m\u001b[0m\u001b[1;33m\u001b[0m\u001b[0m\n\u001b[0m\u001b[0;32m      8\u001b[0m         \u001b[1;32mif\u001b[0m \u001b[0mresponse\u001b[0m\u001b[1;33m.\u001b[0m\u001b[0mstatus_code\u001b[0m \u001b[1;33m!=\u001b[0m \u001b[1;36m200\u001b[0m\u001b[1;33m:\u001b[0m\u001b[1;33m\u001b[0m\u001b[1;33m\u001b[0m\u001b[0m\n\u001b[0;32m      9\u001b[0m             \u001b[1;32mraise\u001b[0m \u001b[0mConnectionError\u001b[0m\u001b[1;33m(\u001b[0m\u001b[1;34mf\"Status code: {response.status_code}\"\u001b[0m\u001b[1;33m)\u001b[0m\u001b[1;33m\u001b[0m\u001b[1;33m\u001b[0m\u001b[0m\n",
      "\u001b[1;32m~\\AppData\\Local\\Continuum\\anaconda3\\envs\\test\\lib\\site-packages\\requests\\api.py\u001b[0m in \u001b[0;36mget\u001b[1;34m(url, params, **kwargs)\u001b[0m\n\u001b[0;32m     73\u001b[0m \u001b[1;33m\u001b[0m\u001b[0m\n\u001b[0;32m     74\u001b[0m     \u001b[0mkwargs\u001b[0m\u001b[1;33m.\u001b[0m\u001b[0msetdefault\u001b[0m\u001b[1;33m(\u001b[0m\u001b[1;34m'allow_redirects'\u001b[0m\u001b[1;33m,\u001b[0m \u001b[1;32mTrue\u001b[0m\u001b[1;33m)\u001b[0m\u001b[1;33m\u001b[0m\u001b[1;33m\u001b[0m\u001b[0m\n\u001b[1;32m---> 75\u001b[1;33m     \u001b[1;32mreturn\u001b[0m \u001b[0mrequest\u001b[0m\u001b[1;33m(\u001b[0m\u001b[1;34m'get'\u001b[0m\u001b[1;33m,\u001b[0m \u001b[0murl\u001b[0m\u001b[1;33m,\u001b[0m \u001b[0mparams\u001b[0m\u001b[1;33m=\u001b[0m\u001b[0mparams\u001b[0m\u001b[1;33m,\u001b[0m \u001b[1;33m**\u001b[0m\u001b[0mkwargs\u001b[0m\u001b[1;33m)\u001b[0m\u001b[1;33m\u001b[0m\u001b[1;33m\u001b[0m\u001b[0m\n\u001b[0m\u001b[0;32m     76\u001b[0m \u001b[1;33m\u001b[0m\u001b[0m\n\u001b[0;32m     77\u001b[0m \u001b[1;33m\u001b[0m\u001b[0m\n",
      "\u001b[1;32m~\\AppData\\Local\\Continuum\\anaconda3\\envs\\test\\lib\\site-packages\\requests\\api.py\u001b[0m in \u001b[0;36mrequest\u001b[1;34m(method, url, **kwargs)\u001b[0m\n\u001b[0;32m     58\u001b[0m     \u001b[1;31m# cases, and look like a memory leak in others.\u001b[0m\u001b[1;33m\u001b[0m\u001b[1;33m\u001b[0m\u001b[1;33m\u001b[0m\u001b[0m\n\u001b[0;32m     59\u001b[0m     \u001b[1;32mwith\u001b[0m \u001b[0msessions\u001b[0m\u001b[1;33m.\u001b[0m\u001b[0mSession\u001b[0m\u001b[1;33m(\u001b[0m\u001b[1;33m)\u001b[0m \u001b[1;32mas\u001b[0m \u001b[0msession\u001b[0m\u001b[1;33m:\u001b[0m\u001b[1;33m\u001b[0m\u001b[1;33m\u001b[0m\u001b[0m\n\u001b[1;32m---> 60\u001b[1;33m         \u001b[1;32mreturn\u001b[0m \u001b[0msession\u001b[0m\u001b[1;33m.\u001b[0m\u001b[0mrequest\u001b[0m\u001b[1;33m(\u001b[0m\u001b[0mmethod\u001b[0m\u001b[1;33m=\u001b[0m\u001b[0mmethod\u001b[0m\u001b[1;33m,\u001b[0m \u001b[0murl\u001b[0m\u001b[1;33m=\u001b[0m\u001b[0murl\u001b[0m\u001b[1;33m,\u001b[0m \u001b[1;33m**\u001b[0m\u001b[0mkwargs\u001b[0m\u001b[1;33m)\u001b[0m\u001b[1;33m\u001b[0m\u001b[1;33m\u001b[0m\u001b[0m\n\u001b[0m\u001b[0;32m     61\u001b[0m \u001b[1;33m\u001b[0m\u001b[0m\n\u001b[0;32m     62\u001b[0m \u001b[1;33m\u001b[0m\u001b[0m\n",
      "\u001b[1;32m~\\AppData\\Local\\Continuum\\anaconda3\\envs\\test\\lib\\site-packages\\requests\\sessions.py\u001b[0m in \u001b[0;36mrequest\u001b[1;34m(self, method, url, params, data, headers, cookies, files, auth, timeout, allow_redirects, proxies, hooks, stream, verify, cert, json)\u001b[0m\n\u001b[0;32m    531\u001b[0m         }\n\u001b[0;32m    532\u001b[0m         \u001b[0msend_kwargs\u001b[0m\u001b[1;33m.\u001b[0m\u001b[0mupdate\u001b[0m\u001b[1;33m(\u001b[0m\u001b[0msettings\u001b[0m\u001b[1;33m)\u001b[0m\u001b[1;33m\u001b[0m\u001b[1;33m\u001b[0m\u001b[0m\n\u001b[1;32m--> 533\u001b[1;33m         \u001b[0mresp\u001b[0m \u001b[1;33m=\u001b[0m \u001b[0mself\u001b[0m\u001b[1;33m.\u001b[0m\u001b[0msend\u001b[0m\u001b[1;33m(\u001b[0m\u001b[0mprep\u001b[0m\u001b[1;33m,\u001b[0m \u001b[1;33m**\u001b[0m\u001b[0msend_kwargs\u001b[0m\u001b[1;33m)\u001b[0m\u001b[1;33m\u001b[0m\u001b[1;33m\u001b[0m\u001b[0m\n\u001b[0m\u001b[0;32m    534\u001b[0m \u001b[1;33m\u001b[0m\u001b[0m\n\u001b[0;32m    535\u001b[0m         \u001b[1;32mreturn\u001b[0m \u001b[0mresp\u001b[0m\u001b[1;33m\u001b[0m\u001b[1;33m\u001b[0m\u001b[0m\n",
      "\u001b[1;32m~\\AppData\\Local\\Continuum\\anaconda3\\envs\\test\\lib\\site-packages\\requests\\sessions.py\u001b[0m in \u001b[0;36msend\u001b[1;34m(self, request, **kwargs)\u001b[0m\n\u001b[0;32m    644\u001b[0m \u001b[1;33m\u001b[0m\u001b[0m\n\u001b[0;32m    645\u001b[0m         \u001b[1;31m# Send the request\u001b[0m\u001b[1;33m\u001b[0m\u001b[1;33m\u001b[0m\u001b[1;33m\u001b[0m\u001b[0m\n\u001b[1;32m--> 646\u001b[1;33m         \u001b[0mr\u001b[0m \u001b[1;33m=\u001b[0m \u001b[0madapter\u001b[0m\u001b[1;33m.\u001b[0m\u001b[0msend\u001b[0m\u001b[1;33m(\u001b[0m\u001b[0mrequest\u001b[0m\u001b[1;33m,\u001b[0m \u001b[1;33m**\u001b[0m\u001b[0mkwargs\u001b[0m\u001b[1;33m)\u001b[0m\u001b[1;33m\u001b[0m\u001b[1;33m\u001b[0m\u001b[0m\n\u001b[0m\u001b[0;32m    647\u001b[0m \u001b[1;33m\u001b[0m\u001b[0m\n\u001b[0;32m    648\u001b[0m         \u001b[1;31m# Total elapsed time of the request (approximately)\u001b[0m\u001b[1;33m\u001b[0m\u001b[1;33m\u001b[0m\u001b[1;33m\u001b[0m\u001b[0m\n",
      "\u001b[1;32m~\\AppData\\Local\\Continuum\\anaconda3\\envs\\test\\lib\\site-packages\\requests\\adapters.py\u001b[0m in \u001b[0;36msend\u001b[1;34m(self, request, stream, timeout, verify, cert, proxies)\u001b[0m\n\u001b[0;32m    512\u001b[0m             \u001b[1;32mif\u001b[0m \u001b[0misinstance\u001b[0m\u001b[1;33m(\u001b[0m\u001b[0me\u001b[0m\u001b[1;33m.\u001b[0m\u001b[0mreason\u001b[0m\u001b[1;33m,\u001b[0m \u001b[0m_SSLError\u001b[0m\u001b[1;33m)\u001b[0m\u001b[1;33m:\u001b[0m\u001b[1;33m\u001b[0m\u001b[1;33m\u001b[0m\u001b[0m\n\u001b[0;32m    513\u001b[0m                 \u001b[1;31m# This branch is for urllib3 v1.22 and later.\u001b[0m\u001b[1;33m\u001b[0m\u001b[1;33m\u001b[0m\u001b[1;33m\u001b[0m\u001b[0m\n\u001b[1;32m--> 514\u001b[1;33m                 \u001b[1;32mraise\u001b[0m \u001b[0mSSLError\u001b[0m\u001b[1;33m(\u001b[0m\u001b[0me\u001b[0m\u001b[1;33m,\u001b[0m \u001b[0mrequest\u001b[0m\u001b[1;33m=\u001b[0m\u001b[0mrequest\u001b[0m\u001b[1;33m)\u001b[0m\u001b[1;33m\u001b[0m\u001b[1;33m\u001b[0m\u001b[0m\n\u001b[0m\u001b[0;32m    515\u001b[0m \u001b[1;33m\u001b[0m\u001b[0m\n\u001b[0;32m    516\u001b[0m             \u001b[1;32mraise\u001b[0m \u001b[0mConnectionError\u001b[0m\u001b[1;33m(\u001b[0m\u001b[0me\u001b[0m\u001b[1;33m,\u001b[0m \u001b[0mrequest\u001b[0m\u001b[1;33m=\u001b[0m\u001b[0mrequest\u001b[0m\u001b[1;33m)\u001b[0m\u001b[1;33m\u001b[0m\u001b[1;33m\u001b[0m\u001b[0m\n",
      "\u001b[1;31mSSLError\u001b[0m: HTTPSConnectionPool(host='steamcommunity.com', port=443): Max retries exceeded with url: /profiles/76561198079491480/games?tab=all&xml=1 (Caused by SSLError(SSLError(\"bad handshake: Error([('SSL routines', 'tls_process_server_certificate', 'certificate verify failed')])\")))"
     ],
     "ename": "SSLError",
     "evalue": "HTTPSConnectionPool(host='steamcommunity.com', port=443): Max retries exceeded with url: /profiles/76561198079491480/games?tab=all&xml=1 (Caused by SSLError(SSLError(\"bad handshake: Error([('SSL routines', 'tls_process_server_certificate', 'certificate verify failed')])\")))",
     "output_type": "error"
    }
   ],
   "source": [
    "API_KEY = 'F0F269DD995EA073497C8E71B10F61B7'\n",
    "request = f'http://api.steampowered.com/ISteamUser/GetFriendList/v0001/?key={API_KEY}&steamid=<steamid>relationship=all'\n",
    "users = len(user_ids)\n",
    "num_of_requests = 0\n",
    "while num_of_requests < 100:\n",
    "    try:\n",
    "        user = user_df[user_df['used'] == False].sample(1).index.values[0]\n",
    "        response = requests.get(request.replace(\"<steamid>\", user_ids[user]))\n",
    "        if response.status_code == 200:\n",
    "            user_df.loc[user, 'used'] = True\n",
    "            friends = response.json()\n",
    "            for friend in friends['friendslist']['friends']:\n",
    "                new_steam_id = friend['steamid']\n",
    "                if new_steam_id not in user_ids and if_have_games(new_steam_id):\n",
    "                    user_ids.append(new_steam_id)\n",
    "        num_of_requests += 1\n",
    "        users = len(user_ids)\n",
    "        print(users)\n",
    "    except IndexError:\n",
    "        print(\"No users left\")\n",
    "        break\n"
   ],
   "metadata": {
    "collapsed": false,
    "pycharm": {
     "name": "#%%\n",
     "is_executing": false
    }
   }
  },
  {
   "cell_type": "code",
   "execution_count": 87,
   "outputs": [],
   "source": [
    "# users_series = pd.Series({\"user_id\": user_ids})\n",
    "users_new_df = pd.DataFrame({\"user_id\": user_ids})\n",
    "users_new_df['used'] = False\n",
    "users_new_df.loc[(user_df[user_df['used'] == True]).index, 'used'] = True"
   ],
   "metadata": {
    "collapsed": false,
    "pycharm": {
     "name": "#%%\n",
     "is_executing": false
    }
   }
  },
  {
   "cell_type": "code",
   "execution_count": 89,
   "outputs": [],
   "source": [
    "users_new_df.to_csv('data\\\\steam_new_users.csv', index=False)"
   ],
   "metadata": {
    "collapsed": false,
    "pycharm": {
     "name": "#%%\n",
     "is_executing": false
    }
   }
  },
  {
   "cell_type": "code",
   "execution_count": 79,
   "outputs": [
    {
     "traceback": [
      "\u001b[1;31m---------------------------------------------------------------------------\u001b[0m",
      "\u001b[1;31mIndexError\u001b[0m                                Traceback (most recent call last)",
      "\u001b[1;32m<ipython-input-79-0f5736ede57d>\u001b[0m in \u001b[0;36m<module>\u001b[1;34m\u001b[0m\n\u001b[1;32m----> 1\u001b[1;33m \u001b[0muser_df\u001b[0m\u001b[1;33m[\u001b[0m\u001b[0muser_df\u001b[0m\u001b[1;33m[\u001b[0m\u001b[1;34m'used'\u001b[0m\u001b[1;33m]\u001b[0m \u001b[1;33m==\u001b[0m \u001b[1;32mFalse\u001b[0m\u001b[1;33m]\u001b[0m\u001b[1;33m.\u001b[0m\u001b[0msample\u001b[0m\u001b[1;33m(\u001b[0m\u001b[1;36m1\u001b[0m\u001b[1;33m)\u001b[0m\u001b[1;33m.\u001b[0m\u001b[0mindex\u001b[0m\u001b[1;33m.\u001b[0m\u001b[0mvalues\u001b[0m\u001b[1;33m[\u001b[0m\u001b[1;36m1\u001b[0m\u001b[1;33m]\u001b[0m\u001b[1;33m\u001b[0m\u001b[1;33m\u001b[0m\u001b[0m\n\u001b[0m",
      "\u001b[1;31mIndexError\u001b[0m: index 1 is out of bounds for axis 0 with size 1"
     ],
     "ename": "IndexError",
     "evalue": "index 1 is out of bounds for axis 0 with size 1",
     "output_type": "error"
    }
   ],
   "source": [
    "user_df[user_df['used'] == False].sample(1).index.values[0]"
   ],
   "metadata": {
    "collapsed": false,
    "pycharm": {
     "name": "#%%\n",
     "is_executing": false
    }
   }
  },
  {
   "cell_type": "code",
   "execution_count": 65,
   "outputs": [],
   "source": [
    "# req = 'https://steamcommunity.com/profiles/76561198148329339/games?tab=all&xml=1'\n",
    "\n",
    "req = 'https://steamcommunity.com/profiles/76561198142848520/games?tab=all&xml=1'\n",
    "resp = requests.get(req)"
   ],
   "metadata": {
    "collapsed": false,
    "pycharm": {
     "name": "#%%\n",
     "is_executing": false
    }
   }
  },
  {
   "cell_type": "code",
   "execution_count": 88,
   "outputs": [
    {
     "data": {
      "text/plain": "True"
     },
     "metadata": {},
     "output_type": "execute_result",
     "execution_count": 88
    }
   ],
   "source": [
    "resp.content\n",
    "\n",
    "(users_new_df.used == True).any()"
   ],
   "metadata": {
    "collapsed": false,
    "pycharm": {
     "name": "#%%\n",
     "is_executing": false
    }
   }
  }
 ],
 "metadata": {
  "language_info": {
   "codemirror_mode": {
    "name": "ipython",
    "version": 2
   },
   "file_extension": ".py",
   "mimetype": "text/x-python",
   "name": "python",
   "nbconvert_exporter": "python",
   "pygments_lexer": "ipython2",
   "version": "2.7.6"
  },
  "kernelspec": {
   "name": "python3",
   "language": "python",
   "display_name": "Python 3"
  },
  "pycharm": {
   "stem_cell": {
    "cell_type": "raw",
    "source": [],
    "metadata": {
     "collapsed": false
    }
   }
  }
 },
 "nbformat": 4,
 "nbformat_minor": 0
}